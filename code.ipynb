{
  "cells": [
    {
      "cell_type": "code",
      "execution_count": 16,
      "id": "960ad80e",
      "metadata": {
        "colab": {
          "base_uri": "https://localhost:8080/",
          "height": 0
        },
        "id": "960ad80e",
        "outputId": "c96055fb-0054-4539-bc6f-4daf62d5f563"
      },
      "outputs": [
        {
          "output_type": "stream",
          "name": "stderr",
          "text": [
            "[nltk_data] Downloading package punkt to /root/nltk_data...\n",
            "[nltk_data]   Package punkt is already up-to-date!\n",
            "[nltk_data] Downloading package stopwords to /root/nltk_data...\n",
            "[nltk_data]   Package stopwords is already up-to-date!\n"
          ]
        }
      ],
      "source": [
        "# importing packages\n",
        "import pandas as pd\n",
        "import numpy as np\n",
        "import matplotlib.pyplot as plt\n",
        "import re\n",
        "import random\n",
        "from sklearn.model_selection import train_test_split\n",
        "from sklearn.decomposition import TruncatedSVD\n",
        "from sklearn.linear_model import LogisticRegression\n",
        "from sklearn.metrics import accuracy_score, precision_score, recall_score, f1_score, roc_auc_score, classification_report\n",
        "from sklearn.model_selection import GridSearchCV\n",
        "from tensorflow.keras.models import Sequential\n",
        "from tensorflow.keras.layers import Dense, Dropout, BatchNormalization\n",
        "from tensorflow.keras.regularizers import l2\n",
        "from tensorflow.keras.optimizers import Adam\n",
        "from sklearn.metrics import accuracy_score\n",
        "from sklearn.base import BaseEstimator, ClassifierMixin\n",
        "from sklearn.preprocessing import LabelEncoder\n",
        "from tensorflow.keras.utils import to_categorical\n",
        "import warnings\n",
        "from sklearn.exceptions import UndefinedMetricWarning\n",
        "warnings.filterwarnings(\"ignore\", category=UndefinedMetricWarning)\n",
        "import nltk\n",
        "from nltk.corpus import stopwords\n",
        "nltk.download('punkt')\n",
        "nltk.download('stopwords')\n",
        "import torch\n",
        "import torch.nn as nn\n",
        "import torch.optim as optim"
      ]
    },
    {
      "cell_type": "code",
      "source": [
        "pd.set_option('display.max_rows',None)"
      ],
      "metadata": {
        "id": "TXKuMIwuCYB7"
      },
      "id": "TXKuMIwuCYB7",
      "execution_count": 17,
      "outputs": []
    },
    {
      "cell_type": "code",
      "execution_count": 18,
      "id": "pIA3BDtNEC-l",
      "metadata": {
        "colab": {
          "base_uri": "https://localhost:8080/",
          "height": 0
        },
        "id": "pIA3BDtNEC-l",
        "outputId": "9b9c9612-ce4c-4291-b7a9-25047ecd9e07"
      },
      "outputs": [
        {
          "output_type": "stream",
          "name": "stdout",
          "text": [
            "Num GPUs Available:  0\n"
          ]
        }
      ],
      "source": [
        "# using GPU to enable faster calculation in future steps\n",
        "import tensorflow as tf\n",
        "import numpy as np\n",
        "\n",
        "# Check GPU availability\n",
        "print(\"Num GPUs Available: \", len(tf.config.experimental.list_physical_devices('GPU')))"
      ]
    },
    {
      "cell_type": "code",
      "execution_count": 19,
      "id": "17746ebb",
      "metadata": {
        "colab": {
          "base_uri": "https://localhost:8080/",
          "height": 0
        },
        "id": "17746ebb",
        "outputId": "e735410f-50fb-48f9-cad3-f19efcaaaae6"
      },
      "outputs": [
        {
          "output_type": "stream",
          "name": "stdout",
          "text": [
            "Drive already mounted at /content/drive; to attempt to forcibly remount, call drive.mount(\"/content/drive\", force_remount=True).\n"
          ]
        }
      ],
      "source": [
        "from google.colab import drive\n",
        "drive.mount('/content/drive')"
      ]
    },
    {
      "cell_type": "code",
      "execution_count": 20,
      "id": "vIKiS1cBFX3r",
      "metadata": {
        "id": "vIKiS1cBFX3r"
      },
      "outputs": [],
      "source": [
        "import pandas as pd\n",
        "\n",
        "data_file = '/content/drive/My Drive/NLP/HW2/amazon_reviews.csv'\n",
        "# df0 = pd.read_csv(data_file, sep='\\t', compression='gzip', nrows=2_000_000)\n",
        "df = pd.read_csv(data_file)"
      ]
    },
    {
      "cell_type": "code",
      "execution_count": 21,
      "id": "2b5246f0",
      "metadata": {
        "colab": {
          "base_uri": "https://localhost:8080/",
          "height": 206
        },
        "id": "2b5246f0",
        "outputId": "a65e4bf5-737c-47a3-93f6-8a1eecc53759"
      },
      "outputs": [
        {
          "output_type": "execute_result",
          "data": {
            "text/plain": [
              "   overall                                         reviewText\n",
              "0        4                                         No issues.\n",
              "1        5  Purchased this for my device, it worked as adv...\n",
              "2        4  it works as expected. I should have sprung for...\n",
              "3        5  This think has worked out great.Had a diff. br...\n",
              "4        5  Bought it with Retail Packaging, arrived legit..."
            ],
            "text/html": [
              "\n",
              "  <div id=\"df-6308aeaa-b5eb-4699-aaaf-76e866f4f609\" class=\"colab-df-container\">\n",
              "    <div>\n",
              "<style scoped>\n",
              "    .dataframe tbody tr th:only-of-type {\n",
              "        vertical-align: middle;\n",
              "    }\n",
              "\n",
              "    .dataframe tbody tr th {\n",
              "        vertical-align: top;\n",
              "    }\n",
              "\n",
              "    .dataframe thead th {\n",
              "        text-align: right;\n",
              "    }\n",
              "</style>\n",
              "<table border=\"1\" class=\"dataframe\">\n",
              "  <thead>\n",
              "    <tr style=\"text-align: right;\">\n",
              "      <th></th>\n",
              "      <th>overall</th>\n",
              "      <th>reviewText</th>\n",
              "    </tr>\n",
              "  </thead>\n",
              "  <tbody>\n",
              "    <tr>\n",
              "      <th>0</th>\n",
              "      <td>4</td>\n",
              "      <td>No issues.</td>\n",
              "    </tr>\n",
              "    <tr>\n",
              "      <th>1</th>\n",
              "      <td>5</td>\n",
              "      <td>Purchased this for my device, it worked as adv...</td>\n",
              "    </tr>\n",
              "    <tr>\n",
              "      <th>2</th>\n",
              "      <td>4</td>\n",
              "      <td>it works as expected. I should have sprung for...</td>\n",
              "    </tr>\n",
              "    <tr>\n",
              "      <th>3</th>\n",
              "      <td>5</td>\n",
              "      <td>This think has worked out great.Had a diff. br...</td>\n",
              "    </tr>\n",
              "    <tr>\n",
              "      <th>4</th>\n",
              "      <td>5</td>\n",
              "      <td>Bought it with Retail Packaging, arrived legit...</td>\n",
              "    </tr>\n",
              "  </tbody>\n",
              "</table>\n",
              "</div>\n",
              "    <div class=\"colab-df-buttons\">\n",
              "\n",
              "  <div class=\"colab-df-container\">\n",
              "    <button class=\"colab-df-convert\" onclick=\"convertToInteractive('df-6308aeaa-b5eb-4699-aaaf-76e866f4f609')\"\n",
              "            title=\"Convert this dataframe to an interactive table.\"\n",
              "            style=\"display:none;\">\n",
              "\n",
              "  <svg xmlns=\"http://www.w3.org/2000/svg\" height=\"24px\" viewBox=\"0 -960 960 960\">\n",
              "    <path d=\"M120-120v-720h720v720H120Zm60-500h600v-160H180v160Zm220 220h160v-160H400v160Zm0 220h160v-160H400v160ZM180-400h160v-160H180v160Zm440 0h160v-160H620v160ZM180-180h160v-160H180v160Zm440 0h160v-160H620v160Z\"/>\n",
              "  </svg>\n",
              "    </button>\n",
              "\n",
              "  <style>\n",
              "    .colab-df-container {\n",
              "      display:flex;\n",
              "      gap: 12px;\n",
              "    }\n",
              "\n",
              "    .colab-df-convert {\n",
              "      background-color: #E8F0FE;\n",
              "      border: none;\n",
              "      border-radius: 50%;\n",
              "      cursor: pointer;\n",
              "      display: none;\n",
              "      fill: #1967D2;\n",
              "      height: 32px;\n",
              "      padding: 0 0 0 0;\n",
              "      width: 32px;\n",
              "    }\n",
              "\n",
              "    .colab-df-convert:hover {\n",
              "      background-color: #E2EBFA;\n",
              "      box-shadow: 0px 1px 2px rgba(60, 64, 67, 0.3), 0px 1px 3px 1px rgba(60, 64, 67, 0.15);\n",
              "      fill: #174EA6;\n",
              "    }\n",
              "\n",
              "    .colab-df-buttons div {\n",
              "      margin-bottom: 4px;\n",
              "    }\n",
              "\n",
              "    [theme=dark] .colab-df-convert {\n",
              "      background-color: #3B4455;\n",
              "      fill: #D2E3FC;\n",
              "    }\n",
              "\n",
              "    [theme=dark] .colab-df-convert:hover {\n",
              "      background-color: #434B5C;\n",
              "      box-shadow: 0px 1px 3px 1px rgba(0, 0, 0, 0.15);\n",
              "      filter: drop-shadow(0px 1px 2px rgba(0, 0, 0, 0.3));\n",
              "      fill: #FFFFFF;\n",
              "    }\n",
              "  </style>\n",
              "\n",
              "    <script>\n",
              "      const buttonEl =\n",
              "        document.querySelector('#df-6308aeaa-b5eb-4699-aaaf-76e866f4f609 button.colab-df-convert');\n",
              "      buttonEl.style.display =\n",
              "        google.colab.kernel.accessAllowed ? 'block' : 'none';\n",
              "\n",
              "      async function convertToInteractive(key) {\n",
              "        const element = document.querySelector('#df-6308aeaa-b5eb-4699-aaaf-76e866f4f609');\n",
              "        const dataTable =\n",
              "          await google.colab.kernel.invokeFunction('convertToInteractive',\n",
              "                                                    [key], {});\n",
              "        if (!dataTable) return;\n",
              "\n",
              "        const docLinkHtml = 'Like what you see? Visit the ' +\n",
              "          '<a target=\"_blank\" href=https://colab.research.google.com/notebooks/data_table.ipynb>data table notebook</a>'\n",
              "          + ' to learn more about interactive tables.';\n",
              "        element.innerHTML = '';\n",
              "        dataTable['output_type'] = 'display_data';\n",
              "        await google.colab.output.renderOutput(dataTable, element);\n",
              "        const docLink = document.createElement('div');\n",
              "        docLink.innerHTML = docLinkHtml;\n",
              "        element.appendChild(docLink);\n",
              "      }\n",
              "    </script>\n",
              "  </div>\n",
              "\n",
              "\n",
              "<div id=\"df-d039f914-2a03-4e09-a2e8-94161a130992\">\n",
              "  <button class=\"colab-df-quickchart\" onclick=\"quickchart('df-d039f914-2a03-4e09-a2e8-94161a130992')\"\n",
              "            title=\"Suggest charts.\"\n",
              "            style=\"display:none;\">\n",
              "\n",
              "<svg xmlns=\"http://www.w3.org/2000/svg\" height=\"24px\"viewBox=\"0 0 24 24\"\n",
              "     width=\"24px\">\n",
              "    <g>\n",
              "        <path d=\"M19 3H5c-1.1 0-2 .9-2 2v14c0 1.1.9 2 2 2h14c1.1 0 2-.9 2-2V5c0-1.1-.9-2-2-2zM9 17H7v-7h2v7zm4 0h-2V7h2v10zm4 0h-2v-4h2v4z\"/>\n",
              "    </g>\n",
              "</svg>\n",
              "  </button>\n",
              "\n",
              "<style>\n",
              "  .colab-df-quickchart {\n",
              "      --bg-color: #E8F0FE;\n",
              "      --fill-color: #1967D2;\n",
              "      --hover-bg-color: #E2EBFA;\n",
              "      --hover-fill-color: #174EA6;\n",
              "      --disabled-fill-color: #AAA;\n",
              "      --disabled-bg-color: #DDD;\n",
              "  }\n",
              "\n",
              "  [theme=dark] .colab-df-quickchart {\n",
              "      --bg-color: #3B4455;\n",
              "      --fill-color: #D2E3FC;\n",
              "      --hover-bg-color: #434B5C;\n",
              "      --hover-fill-color: #FFFFFF;\n",
              "      --disabled-bg-color: #3B4455;\n",
              "      --disabled-fill-color: #666;\n",
              "  }\n",
              "\n",
              "  .colab-df-quickchart {\n",
              "    background-color: var(--bg-color);\n",
              "    border: none;\n",
              "    border-radius: 50%;\n",
              "    cursor: pointer;\n",
              "    display: none;\n",
              "    fill: var(--fill-color);\n",
              "    height: 32px;\n",
              "    padding: 0;\n",
              "    width: 32px;\n",
              "  }\n",
              "\n",
              "  .colab-df-quickchart:hover {\n",
              "    background-color: var(--hover-bg-color);\n",
              "    box-shadow: 0 1px 2px rgba(60, 64, 67, 0.3), 0 1px 3px 1px rgba(60, 64, 67, 0.15);\n",
              "    fill: var(--button-hover-fill-color);\n",
              "  }\n",
              "\n",
              "  .colab-df-quickchart-complete:disabled,\n",
              "  .colab-df-quickchart-complete:disabled:hover {\n",
              "    background-color: var(--disabled-bg-color);\n",
              "    fill: var(--disabled-fill-color);\n",
              "    box-shadow: none;\n",
              "  }\n",
              "\n",
              "  .colab-df-spinner {\n",
              "    border: 2px solid var(--fill-color);\n",
              "    border-color: transparent;\n",
              "    border-bottom-color: var(--fill-color);\n",
              "    animation:\n",
              "      spin 1s steps(1) infinite;\n",
              "  }\n",
              "\n",
              "  @keyframes spin {\n",
              "    0% {\n",
              "      border-color: transparent;\n",
              "      border-bottom-color: var(--fill-color);\n",
              "      border-left-color: var(--fill-color);\n",
              "    }\n",
              "    20% {\n",
              "      border-color: transparent;\n",
              "      border-left-color: var(--fill-color);\n",
              "      border-top-color: var(--fill-color);\n",
              "    }\n",
              "    30% {\n",
              "      border-color: transparent;\n",
              "      border-left-color: var(--fill-color);\n",
              "      border-top-color: var(--fill-color);\n",
              "      border-right-color: var(--fill-color);\n",
              "    }\n",
              "    40% {\n",
              "      border-color: transparent;\n",
              "      border-right-color: var(--fill-color);\n",
              "      border-top-color: var(--fill-color);\n",
              "    }\n",
              "    60% {\n",
              "      border-color: transparent;\n",
              "      border-right-color: var(--fill-color);\n",
              "    }\n",
              "    80% {\n",
              "      border-color: transparent;\n",
              "      border-right-color: var(--fill-color);\n",
              "      border-bottom-color: var(--fill-color);\n",
              "    }\n",
              "    90% {\n",
              "      border-color: transparent;\n",
              "      border-bottom-color: var(--fill-color);\n",
              "    }\n",
              "  }\n",
              "</style>\n",
              "\n",
              "  <script>\n",
              "    async function quickchart(key) {\n",
              "      const quickchartButtonEl =\n",
              "        document.querySelector('#' + key + ' button');\n",
              "      quickchartButtonEl.disabled = true;  // To prevent multiple clicks.\n",
              "      quickchartButtonEl.classList.add('colab-df-spinner');\n",
              "      try {\n",
              "        const charts = await google.colab.kernel.invokeFunction(\n",
              "            'suggestCharts', [key], {});\n",
              "      } catch (error) {\n",
              "        console.error('Error during call to suggestCharts:', error);\n",
              "      }\n",
              "      quickchartButtonEl.classList.remove('colab-df-spinner');\n",
              "      quickchartButtonEl.classList.add('colab-df-quickchart-complete');\n",
              "    }\n",
              "    (() => {\n",
              "      let quickchartButtonEl =\n",
              "        document.querySelector('#df-d039f914-2a03-4e09-a2e8-94161a130992 button');\n",
              "      quickchartButtonEl.style.display =\n",
              "        google.colab.kernel.accessAllowed ? 'block' : 'none';\n",
              "    })();\n",
              "  </script>\n",
              "</div>\n",
              "    </div>\n",
              "  </div>\n"
            ]
          },
          "metadata": {},
          "execution_count": 21
        }
      ],
      "source": [
        "# given review data\n",
        "df.head()"
      ]
    },
    {
      "cell_type": "code",
      "source": [
        "value_counts = df['overall'].value_counts()\n",
        "value_counts"
      ],
      "metadata": {
        "colab": {
          "base_uri": "https://localhost:8080/",
          "height": 0
        },
        "id": "dTAtpDHZBVUY",
        "outputId": "273e9d1e-e680-4b40-d34d-473fcc2bf600"
      },
      "id": "dTAtpDHZBVUY",
      "execution_count": 22,
      "outputs": [
        {
          "output_type": "execute_result",
          "data": {
            "text/plain": [
              "5    3922\n",
              "4     527\n",
              "1     244\n",
              "3     142\n",
              "2      80\n",
              "Name: overall, dtype: int64"
            ]
          },
          "metadata": {},
          "execution_count": 22
        }
      ]
    },
    {
      "cell_type": "markdown",
      "id": "9947c951",
      "metadata": {
        "id": "9947c951"
      },
      "source": [
        "**Solving as a Binary Classification Problem**"
      ]
    },
    {
      "cell_type": "markdown",
      "id": "fab75e0a",
      "metadata": {
        "id": "fab75e0a"
      },
      "source": [
        "Converting the multi-class classification problem into a binary classification problem by equating overall values of 4 and 5 to positive - 1 and overall values of 1 and 2 to negative - 0 and equating half of the values of 3 to 1 and other half to 0."
      ]
    },
    {
      "cell_type": "code",
      "source": [
        "binary_labels = {1:0, 2:0, 4:1, 5:1}\n",
        "half = df[df['overall']==3].sample(frac=0.5, random_state=1234).index"
      ],
      "metadata": {
        "id": "qHufqzSTBaFC"
      },
      "id": "qHufqzSTBaFC",
      "execution_count": 23,
      "outputs": []
    },
    {
      "cell_type": "code",
      "source": [
        "df['overall'].replace(binary_labels, inplace=True)\n",
        "print(df['overall'].value_counts())\n",
        "df.loc[half,'overall'] = 1\n",
        "df.loc[df['overall'] == 3,'overall'] = 0"
      ],
      "metadata": {
        "colab": {
          "base_uri": "https://localhost:8080/",
          "height": 0
        },
        "id": "y-5uzX2JBcy8",
        "outputId": "1acae733-59b7-4c51-d05a-47c391279828"
      },
      "id": "y-5uzX2JBcy8",
      "execution_count": 24,
      "outputs": [
        {
          "output_type": "stream",
          "name": "stdout",
          "text": [
            "1    4449\n",
            "0     324\n",
            "3     142\n",
            "Name: overall, dtype: int64\n"
          ]
        }
      ]
    },
    {
      "cell_type": "code",
      "source": [
        "value_counts = df['overall'].value_counts()\n",
        "value_counts"
      ],
      "metadata": {
        "colab": {
          "base_uri": "https://localhost:8080/",
          "height": 0
        },
        "id": "gQbny6z8BfLN",
        "outputId": "dedd54bb-0dc8-47dc-e53b-94895df55238"
      },
      "id": "gQbny6z8BfLN",
      "execution_count": 25,
      "outputs": [
        {
          "output_type": "execute_result",
          "data": {
            "text/plain": [
              "1    4520\n",
              "0     395\n",
              "Name: overall, dtype: int64"
            ]
          },
          "metadata": {},
          "execution_count": 25
        }
      ]
    },
    {
      "cell_type": "markdown",
      "id": "60377a61",
      "metadata": {
        "id": "60377a61"
      },
      "source": [
        "**1. Data preparation**"
      ]
    },
    {
      "cell_type": "markdown",
      "id": "84b36f54",
      "metadata": {
        "id": "84b36f54"
      },
      "source": [
        "**1) Data preprocessing**"
      ]
    },
    {
      "cell_type": "markdown",
      "id": "54FxwdYas7JA",
      "metadata": {
        "id": "54FxwdYas7JA"
      },
      "source": [
        "Implementing a class based data preprocessing - to remove punctuations, urls, stopwords, numbers and finally making it into lower case and creating tokens"
      ]
    },
    {
      "cell_type": "code",
      "execution_count": 26,
      "id": "f5b3d773",
      "metadata": {
        "id": "f5b3d773"
      },
      "outputs": [],
      "source": [
        "class Preprocess:\n",
        "    def __init__(self, corpus):\n",
        "        self.corpus = corpus\n",
        "\n",
        "    def lowercase(self):\n",
        "        self.corpus = self.corpus.lower()\n",
        "#         print(self.corpus)\n",
        "\n",
        "    def remove_punct(self):\n",
        "        self.corpus = re.sub(r'[^\\w\\s]',\"\", self.corpus)\n",
        "#         print(self.corpus)\n",
        "\n",
        "    def remove_stopwords(self):\n",
        "        stop_words = set(stopwords.words('english'))\n",
        "        corpus_words = self.corpus.split()\n",
        "        self.corpus = ' '.join([x for x in corpus_words if x not in stop_words])\n",
        "#         print(self.corpus)\n",
        "\n",
        "    def remove_numbers(self):\n",
        "        self.corpus = re.sub(r'\\d',\"\", self.corpus)\n",
        "        self.corpus = ' '.join(self.corpus.split())\n",
        "#         print(self.corpus)\n",
        "\n",
        "    def remove_urls(self):\n",
        "      url_pattern = r'https?://(?:www\\.)?\\S+|www\\.\\S+'\n",
        "      self.corpus = re.sub(url_pattern, '', self.corpus)\n",
        "\n",
        "    def tokenize(self):\n",
        "        self.corpus = nltk.word_tokenize(self.corpus)\n",
        "#         print(self.corpus)"
      ]
    },
    {
      "cell_type": "markdown",
      "id": "5217ed84",
      "metadata": {
        "id": "5217ed84"
      },
      "source": [
        "**Checking data quality**"
      ]
    },
    {
      "cell_type": "code",
      "execution_count": 27,
      "id": "7373b0e0",
      "metadata": {
        "colab": {
          "base_uri": "https://localhost:8080/",
          "height": 0
        },
        "id": "7373b0e0",
        "outputId": "80d27f9a-3ba8-4fad-ae86-56110fb915a3"
      },
      "outputs": [
        {
          "output_type": "stream",
          "name": "stdout",
          "text": [
            "\n",
            "Total number of null entries in the Review:  1\n",
            "\n",
            "Entry that has null review\n",
            "\n",
            "     overall reviewText\n",
            "125        1        NaN\n",
            "\n",
            "Total number of null entries after dropping null value:  0\n"
          ]
        }
      ],
      "source": [
        "print('\\nTotal number of null entries in the Review: ',df['reviewText'].isnull().sum())\n",
        "print('\\nEntry that has null review\\n')\n",
        "print(df[df['reviewText'].isnull()])\n",
        "df.dropna(subset=['reviewText'], inplace=True)\n",
        "print('\\nTotal number of null entries after dropping null value: ',df['reviewText'].isnull().sum())"
      ]
    },
    {
      "cell_type": "code",
      "execution_count": 28,
      "id": "33ccb38a",
      "metadata": {
        "id": "33ccb38a"
      },
      "outputs": [],
      "source": [
        "# implementing the preprocessing steps\n",
        "processed_text = []\n",
        "\n",
        "for index, text in enumerate(df['reviewText']):\n",
        "    p = Preprocess(text)\n",
        "    p.remove_urls()\n",
        "    p.remove_punct()\n",
        "    p.remove_numbers()\n",
        "    p.lowercase()\n",
        "    p.remove_stopwords()\n",
        "    p.tokenize()\n",
        "\n",
        "    processed_text.append(p.corpus)"
      ]
    },
    {
      "cell_type": "code",
      "execution_count": 29,
      "id": "8572891e",
      "metadata": {
        "id": "8572891e"
      },
      "outputs": [],
      "source": [
        "# adding a column to the original dataset which contains the preprocessed data\n",
        "df['processed_reviewText'] = processed_text"
      ]
    },
    {
      "cell_type": "code",
      "execution_count": 30,
      "id": "134bbb8c",
      "metadata": {
        "id": "134bbb8c"
      },
      "outputs": [],
      "source": [
        "# creating a separate dataframe with the required features\n",
        "df_prep = df[['overall','processed_reviewText']]"
      ]
    },
    {
      "cell_type": "code",
      "execution_count": 31,
      "id": "b92e221c",
      "metadata": {
        "colab": {
          "base_uri": "https://localhost:8080/",
          "height": 206
        },
        "id": "b92e221c",
        "outputId": "4f0ea95e-9165-4252-d8d5-ee70e25d0b85"
      },
      "outputs": [
        {
          "output_type": "execute_result",
          "data": {
            "text/plain": [
              "   overall                               processed_reviewText\n",
              "0        1                                           [issues]\n",
              "1        1  [purchased, device, worked, advertised, never,...\n",
              "2        1  [works, expected, sprung, higher, capacity, th...\n",
              "3        1  [think, worked, greathad, diff, bran, gb, card...\n",
              "4        1  [bought, retail, packaging, arrived, legit, or..."
            ],
            "text/html": [
              "\n",
              "  <div id=\"df-582615f3-e12b-4d52-9fbc-e5a2540e5a50\" class=\"colab-df-container\">\n",
              "    <div>\n",
              "<style scoped>\n",
              "    .dataframe tbody tr th:only-of-type {\n",
              "        vertical-align: middle;\n",
              "    }\n",
              "\n",
              "    .dataframe tbody tr th {\n",
              "        vertical-align: top;\n",
              "    }\n",
              "\n",
              "    .dataframe thead th {\n",
              "        text-align: right;\n",
              "    }\n",
              "</style>\n",
              "<table border=\"1\" class=\"dataframe\">\n",
              "  <thead>\n",
              "    <tr style=\"text-align: right;\">\n",
              "      <th></th>\n",
              "      <th>overall</th>\n",
              "      <th>processed_reviewText</th>\n",
              "    </tr>\n",
              "  </thead>\n",
              "  <tbody>\n",
              "    <tr>\n",
              "      <th>0</th>\n",
              "      <td>1</td>\n",
              "      <td>[issues]</td>\n",
              "    </tr>\n",
              "    <tr>\n",
              "      <th>1</th>\n",
              "      <td>1</td>\n",
              "      <td>[purchased, device, worked, advertised, never,...</td>\n",
              "    </tr>\n",
              "    <tr>\n",
              "      <th>2</th>\n",
              "      <td>1</td>\n",
              "      <td>[works, expected, sprung, higher, capacity, th...</td>\n",
              "    </tr>\n",
              "    <tr>\n",
              "      <th>3</th>\n",
              "      <td>1</td>\n",
              "      <td>[think, worked, greathad, diff, bran, gb, card...</td>\n",
              "    </tr>\n",
              "    <tr>\n",
              "      <th>4</th>\n",
              "      <td>1</td>\n",
              "      <td>[bought, retail, packaging, arrived, legit, or...</td>\n",
              "    </tr>\n",
              "  </tbody>\n",
              "</table>\n",
              "</div>\n",
              "    <div class=\"colab-df-buttons\">\n",
              "\n",
              "  <div class=\"colab-df-container\">\n",
              "    <button class=\"colab-df-convert\" onclick=\"convertToInteractive('df-582615f3-e12b-4d52-9fbc-e5a2540e5a50')\"\n",
              "            title=\"Convert this dataframe to an interactive table.\"\n",
              "            style=\"display:none;\">\n",
              "\n",
              "  <svg xmlns=\"http://www.w3.org/2000/svg\" height=\"24px\" viewBox=\"0 -960 960 960\">\n",
              "    <path d=\"M120-120v-720h720v720H120Zm60-500h600v-160H180v160Zm220 220h160v-160H400v160Zm0 220h160v-160H400v160ZM180-400h160v-160H180v160Zm440 0h160v-160H620v160ZM180-180h160v-160H180v160Zm440 0h160v-160H620v160Z\"/>\n",
              "  </svg>\n",
              "    </button>\n",
              "\n",
              "  <style>\n",
              "    .colab-df-container {\n",
              "      display:flex;\n",
              "      gap: 12px;\n",
              "    }\n",
              "\n",
              "    .colab-df-convert {\n",
              "      background-color: #E8F0FE;\n",
              "      border: none;\n",
              "      border-radius: 50%;\n",
              "      cursor: pointer;\n",
              "      display: none;\n",
              "      fill: #1967D2;\n",
              "      height: 32px;\n",
              "      padding: 0 0 0 0;\n",
              "      width: 32px;\n",
              "    }\n",
              "\n",
              "    .colab-df-convert:hover {\n",
              "      background-color: #E2EBFA;\n",
              "      box-shadow: 0px 1px 2px rgba(60, 64, 67, 0.3), 0px 1px 3px 1px rgba(60, 64, 67, 0.15);\n",
              "      fill: #174EA6;\n",
              "    }\n",
              "\n",
              "    .colab-df-buttons div {\n",
              "      margin-bottom: 4px;\n",
              "    }\n",
              "\n",
              "    [theme=dark] .colab-df-convert {\n",
              "      background-color: #3B4455;\n",
              "      fill: #D2E3FC;\n",
              "    }\n",
              "\n",
              "    [theme=dark] .colab-df-convert:hover {\n",
              "      background-color: #434B5C;\n",
              "      box-shadow: 0px 1px 3px 1px rgba(0, 0, 0, 0.15);\n",
              "      filter: drop-shadow(0px 1px 2px rgba(0, 0, 0, 0.3));\n",
              "      fill: #FFFFFF;\n",
              "    }\n",
              "  </style>\n",
              "\n",
              "    <script>\n",
              "      const buttonEl =\n",
              "        document.querySelector('#df-582615f3-e12b-4d52-9fbc-e5a2540e5a50 button.colab-df-convert');\n",
              "      buttonEl.style.display =\n",
              "        google.colab.kernel.accessAllowed ? 'block' : 'none';\n",
              "\n",
              "      async function convertToInteractive(key) {\n",
              "        const element = document.querySelector('#df-582615f3-e12b-4d52-9fbc-e5a2540e5a50');\n",
              "        const dataTable =\n",
              "          await google.colab.kernel.invokeFunction('convertToInteractive',\n",
              "                                                    [key], {});\n",
              "        if (!dataTable) return;\n",
              "\n",
              "        const docLinkHtml = 'Like what you see? Visit the ' +\n",
              "          '<a target=\"_blank\" href=https://colab.research.google.com/notebooks/data_table.ipynb>data table notebook</a>'\n",
              "          + ' to learn more about interactive tables.';\n",
              "        element.innerHTML = '';\n",
              "        dataTable['output_type'] = 'display_data';\n",
              "        await google.colab.output.renderOutput(dataTable, element);\n",
              "        const docLink = document.createElement('div');\n",
              "        docLink.innerHTML = docLinkHtml;\n",
              "        element.appendChild(docLink);\n",
              "      }\n",
              "    </script>\n",
              "  </div>\n",
              "\n",
              "\n",
              "<div id=\"df-2ad6c6b0-aae7-473f-b8cf-276984eced4d\">\n",
              "  <button class=\"colab-df-quickchart\" onclick=\"quickchart('df-2ad6c6b0-aae7-473f-b8cf-276984eced4d')\"\n",
              "            title=\"Suggest charts.\"\n",
              "            style=\"display:none;\">\n",
              "\n",
              "<svg xmlns=\"http://www.w3.org/2000/svg\" height=\"24px\"viewBox=\"0 0 24 24\"\n",
              "     width=\"24px\">\n",
              "    <g>\n",
              "        <path d=\"M19 3H5c-1.1 0-2 .9-2 2v14c0 1.1.9 2 2 2h14c1.1 0 2-.9 2-2V5c0-1.1-.9-2-2-2zM9 17H7v-7h2v7zm4 0h-2V7h2v10zm4 0h-2v-4h2v4z\"/>\n",
              "    </g>\n",
              "</svg>\n",
              "  </button>\n",
              "\n",
              "<style>\n",
              "  .colab-df-quickchart {\n",
              "      --bg-color: #E8F0FE;\n",
              "      --fill-color: #1967D2;\n",
              "      --hover-bg-color: #E2EBFA;\n",
              "      --hover-fill-color: #174EA6;\n",
              "      --disabled-fill-color: #AAA;\n",
              "      --disabled-bg-color: #DDD;\n",
              "  }\n",
              "\n",
              "  [theme=dark] .colab-df-quickchart {\n",
              "      --bg-color: #3B4455;\n",
              "      --fill-color: #D2E3FC;\n",
              "      --hover-bg-color: #434B5C;\n",
              "      --hover-fill-color: #FFFFFF;\n",
              "      --disabled-bg-color: #3B4455;\n",
              "      --disabled-fill-color: #666;\n",
              "  }\n",
              "\n",
              "  .colab-df-quickchart {\n",
              "    background-color: var(--bg-color);\n",
              "    border: none;\n",
              "    border-radius: 50%;\n",
              "    cursor: pointer;\n",
              "    display: none;\n",
              "    fill: var(--fill-color);\n",
              "    height: 32px;\n",
              "    padding: 0;\n",
              "    width: 32px;\n",
              "  }\n",
              "\n",
              "  .colab-df-quickchart:hover {\n",
              "    background-color: var(--hover-bg-color);\n",
              "    box-shadow: 0 1px 2px rgba(60, 64, 67, 0.3), 0 1px 3px 1px rgba(60, 64, 67, 0.15);\n",
              "    fill: var(--button-hover-fill-color);\n",
              "  }\n",
              "\n",
              "  .colab-df-quickchart-complete:disabled,\n",
              "  .colab-df-quickchart-complete:disabled:hover {\n",
              "    background-color: var(--disabled-bg-color);\n",
              "    fill: var(--disabled-fill-color);\n",
              "    box-shadow: none;\n",
              "  }\n",
              "\n",
              "  .colab-df-spinner {\n",
              "    border: 2px solid var(--fill-color);\n",
              "    border-color: transparent;\n",
              "    border-bottom-color: var(--fill-color);\n",
              "    animation:\n",
              "      spin 1s steps(1) infinite;\n",
              "  }\n",
              "\n",
              "  @keyframes spin {\n",
              "    0% {\n",
              "      border-color: transparent;\n",
              "      border-bottom-color: var(--fill-color);\n",
              "      border-left-color: var(--fill-color);\n",
              "    }\n",
              "    20% {\n",
              "      border-color: transparent;\n",
              "      border-left-color: var(--fill-color);\n",
              "      border-top-color: var(--fill-color);\n",
              "    }\n",
              "    30% {\n",
              "      border-color: transparent;\n",
              "      border-left-color: var(--fill-color);\n",
              "      border-top-color: var(--fill-color);\n",
              "      border-right-color: var(--fill-color);\n",
              "    }\n",
              "    40% {\n",
              "      border-color: transparent;\n",
              "      border-right-color: var(--fill-color);\n",
              "      border-top-color: var(--fill-color);\n",
              "    }\n",
              "    60% {\n",
              "      border-color: transparent;\n",
              "      border-right-color: var(--fill-color);\n",
              "    }\n",
              "    80% {\n",
              "      border-color: transparent;\n",
              "      border-right-color: var(--fill-color);\n",
              "      border-bottom-color: var(--fill-color);\n",
              "    }\n",
              "    90% {\n",
              "      border-color: transparent;\n",
              "      border-bottom-color: var(--fill-color);\n",
              "    }\n",
              "  }\n",
              "</style>\n",
              "\n",
              "  <script>\n",
              "    async function quickchart(key) {\n",
              "      const quickchartButtonEl =\n",
              "        document.querySelector('#' + key + ' button');\n",
              "      quickchartButtonEl.disabled = true;  // To prevent multiple clicks.\n",
              "      quickchartButtonEl.classList.add('colab-df-spinner');\n",
              "      try {\n",
              "        const charts = await google.colab.kernel.invokeFunction(\n",
              "            'suggestCharts', [key], {});\n",
              "      } catch (error) {\n",
              "        console.error('Error during call to suggestCharts:', error);\n",
              "      }\n",
              "      quickchartButtonEl.classList.remove('colab-df-spinner');\n",
              "      quickchartButtonEl.classList.add('colab-df-quickchart-complete');\n",
              "    }\n",
              "    (() => {\n",
              "      let quickchartButtonEl =\n",
              "        document.querySelector('#df-2ad6c6b0-aae7-473f-b8cf-276984eced4d button');\n",
              "      quickchartButtonEl.style.display =\n",
              "        google.colab.kernel.accessAllowed ? 'block' : 'none';\n",
              "    })();\n",
              "  </script>\n",
              "</div>\n",
              "    </div>\n",
              "  </div>\n"
            ]
          },
          "metadata": {},
          "execution_count": 31
        }
      ],
      "source": [
        "# first five rows of the new dataframe\n",
        "df_prep.head()"
      ]
    },
    {
      "cell_type": "markdown",
      "id": "bd57181b",
      "metadata": {
        "id": "bd57181b"
      },
      "source": [
        "**2) Data split**"
      ]
    },
    {
      "cell_type": "code",
      "execution_count": 32,
      "id": "105d612c",
      "metadata": {
        "id": "105d612c"
      },
      "outputs": [],
      "source": [
        "[x_train, x_test, y_train, y_test] = train_test_split(df_prep['processed_reviewText'], df_prep['overall'], test_size=0.2, random_state=1234)"
      ]
    },
    {
      "cell_type": "code",
      "execution_count": 33,
      "id": "dc2c1dd0",
      "metadata": {
        "id": "dc2c1dd0"
      },
      "outputs": [],
      "source": [
        "[x_val, x_test, y_val, y_test] = train_test_split(x_test, y_test, test_size=0.5, random_state=1234)"
      ]
    },
    {
      "cell_type": "markdown",
      "id": "9edf1dcd",
      "metadata": {
        "id": "9edf1dcd"
      },
      "source": [
        "**3) Data statistics**"
      ]
    },
    {
      "cell_type": "markdown",
      "id": "4e4f99ca",
      "metadata": {
        "id": "4e4f99ca"
      },
      "source": [
        "**Number of data samples in train/validation/test set**"
      ]
    },
    {
      "cell_type": "code",
      "execution_count": 34,
      "id": "b4e671af",
      "metadata": {
        "colab": {
          "base_uri": "https://localhost:8080/",
          "height": 0
        },
        "id": "b4e671af",
        "outputId": "7f950261-6944-44e9-824d-9c9a05e8d971"
      },
      "outputs": [
        {
          "output_type": "stream",
          "name": "stdout",
          "text": [
            "\n",
            "x_train length\t: 3931\n",
            "\n",
            "x_test length\t: 492\n",
            "\n",
            "x_val length\t: 491\n",
            "\n",
            "y_train length\t: 3931\n",
            "\n",
            "y_test length\t: 492\n",
            "\n",
            "y_val length\t: 491\n"
          ]
        }
      ],
      "source": [
        "print('\\nx_train length\\t:',len(x_train))\n",
        "print('\\nx_test length\\t:',len(x_test))\n",
        "print('\\nx_val length\\t:',len(x_val))\n",
        "print('\\ny_train length\\t:',len(y_train))\n",
        "print('\\ny_test length\\t:',len(y_test))\n",
        "print('\\ny_val length\\t:',len(y_val))"
      ]
    },
    {
      "cell_type": "markdown",
      "id": "be7c566f",
      "metadata": {
        "id": "be7c566f"
      },
      "source": [
        "**Number of Tokens**"
      ]
    },
    {
      "cell_type": "code",
      "execution_count": 35,
      "id": "6ede58ea",
      "metadata": {
        "id": "6ede58ea"
      },
      "outputs": [],
      "source": [
        "min_no_tokens = df_prep['processed_reviewText'].apply(len).min()\n",
        "min_no_tokens_df = df_prep.loc[df['processed_reviewText'].apply(len) == df_prep['processed_reviewText'].apply(len).min()]\n",
        "\n",
        "mean_no_tokens = df_prep['processed_reviewText'].apply(len).mean()\n",
        "\n",
        "max_no_tokens = df_prep['processed_reviewText'].apply(len).max()\n",
        "max_no_tokens_df = df_prep[df_prep['processed_reviewText'].apply(len) == df_prep['processed_reviewText'].apply(len).max()]"
      ]
    },
    {
      "cell_type": "code",
      "execution_count": 36,
      "id": "bcf153d9",
      "metadata": {
        "colab": {
          "base_uri": "https://localhost:8080/",
          "height": 0
        },
        "id": "bcf153d9",
        "outputId": "2e02cc43-e53e-4bd3-c655-8974cf7c6bd0"
      },
      "outputs": [
        {
          "output_type": "stream",
          "name": "stdout",
          "text": [
            "\n",
            "Minimum number of tokens\t: 1\n",
            "\n",
            "Mean number of tokens\t\t: 25.4029304029304\n",
            "\n",
            "Maximum number of tokens\t: 781\n"
          ]
        }
      ],
      "source": [
        "print('\\nMinimum number of tokens\\t:', min_no_tokens)\n",
        "print('\\nMean number of tokens\\t\\t:', mean_no_tokens)\n",
        "print('\\nMaximum number of tokens\\t:', max_no_tokens)"
      ]
    },
    {
      "cell_type": "code",
      "execution_count": 38,
      "id": "e0f45e3e",
      "metadata": {
        "colab": {
          "base_uri": "https://localhost:8080/",
          "height": 488
        },
        "id": "e0f45e3e",
        "outputId": "c5d4fabf-a70f-4996-99be-fd29694e226e"
      },
      "outputs": [
        {
          "output_type": "execute_result",
          "data": {
            "text/plain": [
              "      overall processed_reviewText\n",
              "0           1             [issues]\n",
              "705         1                [yes]\n",
              "1452        1               [nice]\n",
              "1666        1           [designed]\n",
              "2496        1                [yes]\n",
              "2560        1           [supposed]\n",
              "2856        1                [job]\n",
              "3013        1           [problems]\n",
              "3234        1               [good]\n",
              "3487        1           [excelent]\n",
              "3605        1            [perfect]\n",
              "3638        1             [issues]\n",
              "3741        1              [great]\n",
              "4308        1              [super]"
            ],
            "text/html": [
              "\n",
              "  <div id=\"df-0e42987c-0d37-4dc6-8f86-342a0d7c7b73\" class=\"colab-df-container\">\n",
              "    <div>\n",
              "<style scoped>\n",
              "    .dataframe tbody tr th:only-of-type {\n",
              "        vertical-align: middle;\n",
              "    }\n",
              "\n",
              "    .dataframe tbody tr th {\n",
              "        vertical-align: top;\n",
              "    }\n",
              "\n",
              "    .dataframe thead th {\n",
              "        text-align: right;\n",
              "    }\n",
              "</style>\n",
              "<table border=\"1\" class=\"dataframe\">\n",
              "  <thead>\n",
              "    <tr style=\"text-align: right;\">\n",
              "      <th></th>\n",
              "      <th>overall</th>\n",
              "      <th>processed_reviewText</th>\n",
              "    </tr>\n",
              "  </thead>\n",
              "  <tbody>\n",
              "    <tr>\n",
              "      <th>0</th>\n",
              "      <td>1</td>\n",
              "      <td>[issues]</td>\n",
              "    </tr>\n",
              "    <tr>\n",
              "      <th>705</th>\n",
              "      <td>1</td>\n",
              "      <td>[yes]</td>\n",
              "    </tr>\n",
              "    <tr>\n",
              "      <th>1452</th>\n",
              "      <td>1</td>\n",
              "      <td>[nice]</td>\n",
              "    </tr>\n",
              "    <tr>\n",
              "      <th>1666</th>\n",
              "      <td>1</td>\n",
              "      <td>[designed]</td>\n",
              "    </tr>\n",
              "    <tr>\n",
              "      <th>2496</th>\n",
              "      <td>1</td>\n",
              "      <td>[yes]</td>\n",
              "    </tr>\n",
              "    <tr>\n",
              "      <th>2560</th>\n",
              "      <td>1</td>\n",
              "      <td>[supposed]</td>\n",
              "    </tr>\n",
              "    <tr>\n",
              "      <th>2856</th>\n",
              "      <td>1</td>\n",
              "      <td>[job]</td>\n",
              "    </tr>\n",
              "    <tr>\n",
              "      <th>3013</th>\n",
              "      <td>1</td>\n",
              "      <td>[problems]</td>\n",
              "    </tr>\n",
              "    <tr>\n",
              "      <th>3234</th>\n",
              "      <td>1</td>\n",
              "      <td>[good]</td>\n",
              "    </tr>\n",
              "    <tr>\n",
              "      <th>3487</th>\n",
              "      <td>1</td>\n",
              "      <td>[excelent]</td>\n",
              "    </tr>\n",
              "    <tr>\n",
              "      <th>3605</th>\n",
              "      <td>1</td>\n",
              "      <td>[perfect]</td>\n",
              "    </tr>\n",
              "    <tr>\n",
              "      <th>3638</th>\n",
              "      <td>1</td>\n",
              "      <td>[issues]</td>\n",
              "    </tr>\n",
              "    <tr>\n",
              "      <th>3741</th>\n",
              "      <td>1</td>\n",
              "      <td>[great]</td>\n",
              "    </tr>\n",
              "    <tr>\n",
              "      <th>4308</th>\n",
              "      <td>1</td>\n",
              "      <td>[super]</td>\n",
              "    </tr>\n",
              "  </tbody>\n",
              "</table>\n",
              "</div>\n",
              "    <div class=\"colab-df-buttons\">\n",
              "\n",
              "  <div class=\"colab-df-container\">\n",
              "    <button class=\"colab-df-convert\" onclick=\"convertToInteractive('df-0e42987c-0d37-4dc6-8f86-342a0d7c7b73')\"\n",
              "            title=\"Convert this dataframe to an interactive table.\"\n",
              "            style=\"display:none;\">\n",
              "\n",
              "  <svg xmlns=\"http://www.w3.org/2000/svg\" height=\"24px\" viewBox=\"0 -960 960 960\">\n",
              "    <path d=\"M120-120v-720h720v720H120Zm60-500h600v-160H180v160Zm220 220h160v-160H400v160Zm0 220h160v-160H400v160ZM180-400h160v-160H180v160Zm440 0h160v-160H620v160ZM180-180h160v-160H180v160Zm440 0h160v-160H620v160Z\"/>\n",
              "  </svg>\n",
              "    </button>\n",
              "\n",
              "  <style>\n",
              "    .colab-df-container {\n",
              "      display:flex;\n",
              "      gap: 12px;\n",
              "    }\n",
              "\n",
              "    .colab-df-convert {\n",
              "      background-color: #E8F0FE;\n",
              "      border: none;\n",
              "      border-radius: 50%;\n",
              "      cursor: pointer;\n",
              "      display: none;\n",
              "      fill: #1967D2;\n",
              "      height: 32px;\n",
              "      padding: 0 0 0 0;\n",
              "      width: 32px;\n",
              "    }\n",
              "\n",
              "    .colab-df-convert:hover {\n",
              "      background-color: #E2EBFA;\n",
              "      box-shadow: 0px 1px 2px rgba(60, 64, 67, 0.3), 0px 1px 3px 1px rgba(60, 64, 67, 0.15);\n",
              "      fill: #174EA6;\n",
              "    }\n",
              "\n",
              "    .colab-df-buttons div {\n",
              "      margin-bottom: 4px;\n",
              "    }\n",
              "\n",
              "    [theme=dark] .colab-df-convert {\n",
              "      background-color: #3B4455;\n",
              "      fill: #D2E3FC;\n",
              "    }\n",
              "\n",
              "    [theme=dark] .colab-df-convert:hover {\n",
              "      background-color: #434B5C;\n",
              "      box-shadow: 0px 1px 3px 1px rgba(0, 0, 0, 0.15);\n",
              "      filter: drop-shadow(0px 1px 2px rgba(0, 0, 0, 0.3));\n",
              "      fill: #FFFFFF;\n",
              "    }\n",
              "  </style>\n",
              "\n",
              "    <script>\n",
              "      const buttonEl =\n",
              "        document.querySelector('#df-0e42987c-0d37-4dc6-8f86-342a0d7c7b73 button.colab-df-convert');\n",
              "      buttonEl.style.display =\n",
              "        google.colab.kernel.accessAllowed ? 'block' : 'none';\n",
              "\n",
              "      async function convertToInteractive(key) {\n",
              "        const element = document.querySelector('#df-0e42987c-0d37-4dc6-8f86-342a0d7c7b73');\n",
              "        const dataTable =\n",
              "          await google.colab.kernel.invokeFunction('convertToInteractive',\n",
              "                                                    [key], {});\n",
              "        if (!dataTable) return;\n",
              "\n",
              "        const docLinkHtml = 'Like what you see? Visit the ' +\n",
              "          '<a target=\"_blank\" href=https://colab.research.google.com/notebooks/data_table.ipynb>data table notebook</a>'\n",
              "          + ' to learn more about interactive tables.';\n",
              "        element.innerHTML = '';\n",
              "        dataTable['output_type'] = 'display_data';\n",
              "        await google.colab.output.renderOutput(dataTable, element);\n",
              "        const docLink = document.createElement('div');\n",
              "        docLink.innerHTML = docLinkHtml;\n",
              "        element.appendChild(docLink);\n",
              "      }\n",
              "    </script>\n",
              "  </div>\n",
              "\n",
              "\n",
              "<div id=\"df-2a89797e-8031-4bb3-965b-5dda5d17b500\">\n",
              "  <button class=\"colab-df-quickchart\" onclick=\"quickchart('df-2a89797e-8031-4bb3-965b-5dda5d17b500')\"\n",
              "            title=\"Suggest charts.\"\n",
              "            style=\"display:none;\">\n",
              "\n",
              "<svg xmlns=\"http://www.w3.org/2000/svg\" height=\"24px\"viewBox=\"0 0 24 24\"\n",
              "     width=\"24px\">\n",
              "    <g>\n",
              "        <path d=\"M19 3H5c-1.1 0-2 .9-2 2v14c0 1.1.9 2 2 2h14c1.1 0 2-.9 2-2V5c0-1.1-.9-2-2-2zM9 17H7v-7h2v7zm4 0h-2V7h2v10zm4 0h-2v-4h2v4z\"/>\n",
              "    </g>\n",
              "</svg>\n",
              "  </button>\n",
              "\n",
              "<style>\n",
              "  .colab-df-quickchart {\n",
              "      --bg-color: #E8F0FE;\n",
              "      --fill-color: #1967D2;\n",
              "      --hover-bg-color: #E2EBFA;\n",
              "      --hover-fill-color: #174EA6;\n",
              "      --disabled-fill-color: #AAA;\n",
              "      --disabled-bg-color: #DDD;\n",
              "  }\n",
              "\n",
              "  [theme=dark] .colab-df-quickchart {\n",
              "      --bg-color: #3B4455;\n",
              "      --fill-color: #D2E3FC;\n",
              "      --hover-bg-color: #434B5C;\n",
              "      --hover-fill-color: #FFFFFF;\n",
              "      --disabled-bg-color: #3B4455;\n",
              "      --disabled-fill-color: #666;\n",
              "  }\n",
              "\n",
              "  .colab-df-quickchart {\n",
              "    background-color: var(--bg-color);\n",
              "    border: none;\n",
              "    border-radius: 50%;\n",
              "    cursor: pointer;\n",
              "    display: none;\n",
              "    fill: var(--fill-color);\n",
              "    height: 32px;\n",
              "    padding: 0;\n",
              "    width: 32px;\n",
              "  }\n",
              "\n",
              "  .colab-df-quickchart:hover {\n",
              "    background-color: var(--hover-bg-color);\n",
              "    box-shadow: 0 1px 2px rgba(60, 64, 67, 0.3), 0 1px 3px 1px rgba(60, 64, 67, 0.15);\n",
              "    fill: var(--button-hover-fill-color);\n",
              "  }\n",
              "\n",
              "  .colab-df-quickchart-complete:disabled,\n",
              "  .colab-df-quickchart-complete:disabled:hover {\n",
              "    background-color: var(--disabled-bg-color);\n",
              "    fill: var(--disabled-fill-color);\n",
              "    box-shadow: none;\n",
              "  }\n",
              "\n",
              "  .colab-df-spinner {\n",
              "    border: 2px solid var(--fill-color);\n",
              "    border-color: transparent;\n",
              "    border-bottom-color: var(--fill-color);\n",
              "    animation:\n",
              "      spin 1s steps(1) infinite;\n",
              "  }\n",
              "\n",
              "  @keyframes spin {\n",
              "    0% {\n",
              "      border-color: transparent;\n",
              "      border-bottom-color: var(--fill-color);\n",
              "      border-left-color: var(--fill-color);\n",
              "    }\n",
              "    20% {\n",
              "      border-color: transparent;\n",
              "      border-left-color: var(--fill-color);\n",
              "      border-top-color: var(--fill-color);\n",
              "    }\n",
              "    30% {\n",
              "      border-color: transparent;\n",
              "      border-left-color: var(--fill-color);\n",
              "      border-top-color: var(--fill-color);\n",
              "      border-right-color: var(--fill-color);\n",
              "    }\n",
              "    40% {\n",
              "      border-color: transparent;\n",
              "      border-right-color: var(--fill-color);\n",
              "      border-top-color: var(--fill-color);\n",
              "    }\n",
              "    60% {\n",
              "      border-color: transparent;\n",
              "      border-right-color: var(--fill-color);\n",
              "    }\n",
              "    80% {\n",
              "      border-color: transparent;\n",
              "      border-right-color: var(--fill-color);\n",
              "      border-bottom-color: var(--fill-color);\n",
              "    }\n",
              "    90% {\n",
              "      border-color: transparent;\n",
              "      border-bottom-color: var(--fill-color);\n",
              "    }\n",
              "  }\n",
              "</style>\n",
              "\n",
              "  <script>\n",
              "    async function quickchart(key) {\n",
              "      const quickchartButtonEl =\n",
              "        document.querySelector('#' + key + ' button');\n",
              "      quickchartButtonEl.disabled = true;  // To prevent multiple clicks.\n",
              "      quickchartButtonEl.classList.add('colab-df-spinner');\n",
              "      try {\n",
              "        const charts = await google.colab.kernel.invokeFunction(\n",
              "            'suggestCharts', [key], {});\n",
              "      } catch (error) {\n",
              "        console.error('Error during call to suggestCharts:', error);\n",
              "      }\n",
              "      quickchartButtonEl.classList.remove('colab-df-spinner');\n",
              "      quickchartButtonEl.classList.add('colab-df-quickchart-complete');\n",
              "    }\n",
              "    (() => {\n",
              "      let quickchartButtonEl =\n",
              "        document.querySelector('#df-2a89797e-8031-4bb3-965b-5dda5d17b500 button');\n",
              "      quickchartButtonEl.style.display =\n",
              "        google.colab.kernel.accessAllowed ? 'block' : 'none';\n",
              "    })();\n",
              "  </script>\n",
              "</div>\n",
              "    </div>\n",
              "  </div>\n"
            ]
          },
          "metadata": {},
          "execution_count": 38
        }
      ],
      "source": [
        "# Datapoint that has the minimum number of tokens\n",
        "min_no_tokens_df"
      ]
    },
    {
      "cell_type": "code",
      "execution_count": 39,
      "id": "57ca9062",
      "metadata": {
        "colab": {
          "base_uri": "https://localhost:8080/",
          "height": 81
        },
        "id": "57ca9062",
        "outputId": "8ca356b0-c682-475d-85a9-fcdbd95a0629"
      },
      "outputs": [
        {
          "output_type": "execute_result",
          "data": {
            "text/plain": [
              "      overall                               processed_reviewText\n",
              "4212        0  [note, please, read, last, update, scroll, bot..."
            ],
            "text/html": [
              "\n",
              "  <div id=\"df-781fb839-0e82-4efd-9f49-ed6afb1b5918\" class=\"colab-df-container\">\n",
              "    <div>\n",
              "<style scoped>\n",
              "    .dataframe tbody tr th:only-of-type {\n",
              "        vertical-align: middle;\n",
              "    }\n",
              "\n",
              "    .dataframe tbody tr th {\n",
              "        vertical-align: top;\n",
              "    }\n",
              "\n",
              "    .dataframe thead th {\n",
              "        text-align: right;\n",
              "    }\n",
              "</style>\n",
              "<table border=\"1\" class=\"dataframe\">\n",
              "  <thead>\n",
              "    <tr style=\"text-align: right;\">\n",
              "      <th></th>\n",
              "      <th>overall</th>\n",
              "      <th>processed_reviewText</th>\n",
              "    </tr>\n",
              "  </thead>\n",
              "  <tbody>\n",
              "    <tr>\n",
              "      <th>4212</th>\n",
              "      <td>0</td>\n",
              "      <td>[note, please, read, last, update, scroll, bot...</td>\n",
              "    </tr>\n",
              "  </tbody>\n",
              "</table>\n",
              "</div>\n",
              "    <div class=\"colab-df-buttons\">\n",
              "\n",
              "  <div class=\"colab-df-container\">\n",
              "    <button class=\"colab-df-convert\" onclick=\"convertToInteractive('df-781fb839-0e82-4efd-9f49-ed6afb1b5918')\"\n",
              "            title=\"Convert this dataframe to an interactive table.\"\n",
              "            style=\"display:none;\">\n",
              "\n",
              "  <svg xmlns=\"http://www.w3.org/2000/svg\" height=\"24px\" viewBox=\"0 -960 960 960\">\n",
              "    <path d=\"M120-120v-720h720v720H120Zm60-500h600v-160H180v160Zm220 220h160v-160H400v160Zm0 220h160v-160H400v160ZM180-400h160v-160H180v160Zm440 0h160v-160H620v160ZM180-180h160v-160H180v160Zm440 0h160v-160H620v160Z\"/>\n",
              "  </svg>\n",
              "    </button>\n",
              "\n",
              "  <style>\n",
              "    .colab-df-container {\n",
              "      display:flex;\n",
              "      gap: 12px;\n",
              "    }\n",
              "\n",
              "    .colab-df-convert {\n",
              "      background-color: #E8F0FE;\n",
              "      border: none;\n",
              "      border-radius: 50%;\n",
              "      cursor: pointer;\n",
              "      display: none;\n",
              "      fill: #1967D2;\n",
              "      height: 32px;\n",
              "      padding: 0 0 0 0;\n",
              "      width: 32px;\n",
              "    }\n",
              "\n",
              "    .colab-df-convert:hover {\n",
              "      background-color: #E2EBFA;\n",
              "      box-shadow: 0px 1px 2px rgba(60, 64, 67, 0.3), 0px 1px 3px 1px rgba(60, 64, 67, 0.15);\n",
              "      fill: #174EA6;\n",
              "    }\n",
              "\n",
              "    .colab-df-buttons div {\n",
              "      margin-bottom: 4px;\n",
              "    }\n",
              "\n",
              "    [theme=dark] .colab-df-convert {\n",
              "      background-color: #3B4455;\n",
              "      fill: #D2E3FC;\n",
              "    }\n",
              "\n",
              "    [theme=dark] .colab-df-convert:hover {\n",
              "      background-color: #434B5C;\n",
              "      box-shadow: 0px 1px 3px 1px rgba(0, 0, 0, 0.15);\n",
              "      filter: drop-shadow(0px 1px 2px rgba(0, 0, 0, 0.3));\n",
              "      fill: #FFFFFF;\n",
              "    }\n",
              "  </style>\n",
              "\n",
              "    <script>\n",
              "      const buttonEl =\n",
              "        document.querySelector('#df-781fb839-0e82-4efd-9f49-ed6afb1b5918 button.colab-df-convert');\n",
              "      buttonEl.style.display =\n",
              "        google.colab.kernel.accessAllowed ? 'block' : 'none';\n",
              "\n",
              "      async function convertToInteractive(key) {\n",
              "        const element = document.querySelector('#df-781fb839-0e82-4efd-9f49-ed6afb1b5918');\n",
              "        const dataTable =\n",
              "          await google.colab.kernel.invokeFunction('convertToInteractive',\n",
              "                                                    [key], {});\n",
              "        if (!dataTable) return;\n",
              "\n",
              "        const docLinkHtml = 'Like what you see? Visit the ' +\n",
              "          '<a target=\"_blank\" href=https://colab.research.google.com/notebooks/data_table.ipynb>data table notebook</a>'\n",
              "          + ' to learn more about interactive tables.';\n",
              "        element.innerHTML = '';\n",
              "        dataTable['output_type'] = 'display_data';\n",
              "        await google.colab.output.renderOutput(dataTable, element);\n",
              "        const docLink = document.createElement('div');\n",
              "        docLink.innerHTML = docLinkHtml;\n",
              "        element.appendChild(docLink);\n",
              "      }\n",
              "    </script>\n",
              "  </div>\n",
              "\n",
              "    </div>\n",
              "  </div>\n"
            ]
          },
          "metadata": {},
          "execution_count": 39
        }
      ],
      "source": [
        "# Datapoint that has the maximum number of tokens\n",
        "max_no_tokens_df"
      ]
    },
    {
      "cell_type": "markdown",
      "id": "0965e355",
      "metadata": {
        "id": "0965e355"
      },
      "source": [
        "**Number of positive/negative reviews in train/validation/test set**"
      ]
    },
    {
      "cell_type": "code",
      "execution_count": 40,
      "id": "73a6ecc3",
      "metadata": {
        "id": "73a6ecc3"
      },
      "outputs": [],
      "source": [
        "positive_reviews_train = df_prep[df_prep['overall'] == 5]"
      ]
    },
    {
      "cell_type": "code",
      "execution_count": 41,
      "id": "37beacc3",
      "metadata": {
        "colab": {
          "base_uri": "https://localhost:8080/",
          "height": 53
        },
        "id": "37beacc3",
        "outputId": "e53408d1-edcb-49bc-f5d3-8ef3fb27e679"
      },
      "outputs": [
        {
          "output_type": "execute_result",
          "data": {
            "text/plain": [
              "Empty DataFrame\n",
              "Columns: [overall, processed_reviewText]\n",
              "Index: []"
            ],
            "text/html": [
              "\n",
              "  <div id=\"df-1064e053-0b96-4c5d-8a51-dc4852c84934\" class=\"colab-df-container\">\n",
              "    <div>\n",
              "<style scoped>\n",
              "    .dataframe tbody tr th:only-of-type {\n",
              "        vertical-align: middle;\n",
              "    }\n",
              "\n",
              "    .dataframe tbody tr th {\n",
              "        vertical-align: top;\n",
              "    }\n",
              "\n",
              "    .dataframe thead th {\n",
              "        text-align: right;\n",
              "    }\n",
              "</style>\n",
              "<table border=\"1\" class=\"dataframe\">\n",
              "  <thead>\n",
              "    <tr style=\"text-align: right;\">\n",
              "      <th></th>\n",
              "      <th>overall</th>\n",
              "      <th>processed_reviewText</th>\n",
              "    </tr>\n",
              "  </thead>\n",
              "  <tbody>\n",
              "  </tbody>\n",
              "</table>\n",
              "</div>\n",
              "    <div class=\"colab-df-buttons\">\n",
              "\n",
              "  <div class=\"colab-df-container\">\n",
              "    <button class=\"colab-df-convert\" onclick=\"convertToInteractive('df-1064e053-0b96-4c5d-8a51-dc4852c84934')\"\n",
              "            title=\"Convert this dataframe to an interactive table.\"\n",
              "            style=\"display:none;\">\n",
              "\n",
              "  <svg xmlns=\"http://www.w3.org/2000/svg\" height=\"24px\" viewBox=\"0 -960 960 960\">\n",
              "    <path d=\"M120-120v-720h720v720H120Zm60-500h600v-160H180v160Zm220 220h160v-160H400v160Zm0 220h160v-160H400v160ZM180-400h160v-160H180v160Zm440 0h160v-160H620v160ZM180-180h160v-160H180v160Zm440 0h160v-160H620v160Z\"/>\n",
              "  </svg>\n",
              "    </button>\n",
              "\n",
              "  <style>\n",
              "    .colab-df-container {\n",
              "      display:flex;\n",
              "      gap: 12px;\n",
              "    }\n",
              "\n",
              "    .colab-df-convert {\n",
              "      background-color: #E8F0FE;\n",
              "      border: none;\n",
              "      border-radius: 50%;\n",
              "      cursor: pointer;\n",
              "      display: none;\n",
              "      fill: #1967D2;\n",
              "      height: 32px;\n",
              "      padding: 0 0 0 0;\n",
              "      width: 32px;\n",
              "    }\n",
              "\n",
              "    .colab-df-convert:hover {\n",
              "      background-color: #E2EBFA;\n",
              "      box-shadow: 0px 1px 2px rgba(60, 64, 67, 0.3), 0px 1px 3px 1px rgba(60, 64, 67, 0.15);\n",
              "      fill: #174EA6;\n",
              "    }\n",
              "\n",
              "    .colab-df-buttons div {\n",
              "      margin-bottom: 4px;\n",
              "    }\n",
              "\n",
              "    [theme=dark] .colab-df-convert {\n",
              "      background-color: #3B4455;\n",
              "      fill: #D2E3FC;\n",
              "    }\n",
              "\n",
              "    [theme=dark] .colab-df-convert:hover {\n",
              "      background-color: #434B5C;\n",
              "      box-shadow: 0px 1px 3px 1px rgba(0, 0, 0, 0.15);\n",
              "      filter: drop-shadow(0px 1px 2px rgba(0, 0, 0, 0.3));\n",
              "      fill: #FFFFFF;\n",
              "    }\n",
              "  </style>\n",
              "\n",
              "    <script>\n",
              "      const buttonEl =\n",
              "        document.querySelector('#df-1064e053-0b96-4c5d-8a51-dc4852c84934 button.colab-df-convert');\n",
              "      buttonEl.style.display =\n",
              "        google.colab.kernel.accessAllowed ? 'block' : 'none';\n",
              "\n",
              "      async function convertToInteractive(key) {\n",
              "        const element = document.querySelector('#df-1064e053-0b96-4c5d-8a51-dc4852c84934');\n",
              "        const dataTable =\n",
              "          await google.colab.kernel.invokeFunction('convertToInteractive',\n",
              "                                                    [key], {});\n",
              "        if (!dataTable) return;\n",
              "\n",
              "        const docLinkHtml = 'Like what you see? Visit the ' +\n",
              "          '<a target=\"_blank\" href=https://colab.research.google.com/notebooks/data_table.ipynb>data table notebook</a>'\n",
              "          + ' to learn more about interactive tables.';\n",
              "        element.innerHTML = '';\n",
              "        dataTable['output_type'] = 'display_data';\n",
              "        await google.colab.output.renderOutput(dataTable, element);\n",
              "        const docLink = document.createElement('div');\n",
              "        docLink.innerHTML = docLinkHtml;\n",
              "        element.appendChild(docLink);\n",
              "      }\n",
              "    </script>\n",
              "  </div>\n",
              "\n",
              "    </div>\n",
              "  </div>\n"
            ]
          },
          "metadata": {},
          "execution_count": 41
        }
      ],
      "source": [
        "positive_reviews_train"
      ]
    },
    {
      "cell_type": "code",
      "execution_count": 42,
      "id": "a15399d4",
      "metadata": {
        "colab": {
          "base_uri": "https://localhost:8080/",
          "height": 0
        },
        "id": "a15399d4",
        "outputId": "42f4bea4-8ae8-4067-a6ab-c80cee9ab15b"
      },
      "outputs": [
        {
          "output_type": "stream",
          "name": "stdout",
          "text": [
            "\n",
            "Review Categorization for Training set: \n",
            "\n",
            "1    3626\n",
            "0     305\n",
            "Name: overall, dtype: int64\n",
            "\n",
            "Review Categorization for Validation set: \n",
            "\n",
            "1    445\n",
            "0     46\n",
            "Name: overall, dtype: int64\n",
            "\n",
            "Review Categorization for Test set: \n",
            "\n",
            "1    448\n",
            "0     44\n",
            "Name: overall, dtype: int64\n"
          ]
        }
      ],
      "source": [
        "#For training set\n",
        "print('\\nReview Categorization for Training set: \\n')\n",
        "print(y_train.value_counts())\n",
        "\n",
        "#For va\\nlidation set\n",
        "print('\\nReview Categorization for Validation set: \\n')\n",
        "print(y_val.value_counts())\n",
        "\n",
        "#For training set\n",
        "print('\\nReview Categorization for Test set: \\n')\n",
        "print(y_test.value_counts())"
      ]
    },
    {
      "cell_type": "markdown",
      "source": [
        "**2. Sentiment Analysis with RNN**\n",
        "\n",
        "1) You can select to implement 2-layer LSTM or GRU (you can directly call packages in Pytorch).\n",
        "\n",
        "2) Please use SGD during optimization.\n",
        "\n",
        "3) Please initialize the word embeddings randomly and learn them during the model training.\n",
        "\n",
        "4) You can decide other parameters."
      ],
      "metadata": {
        "id": "IuIV0HUFC1TS"
      },
      "id": "IuIV0HUFC1TS"
    },
    {
      "cell_type": "code",
      "source": [
        "def train(model, data, labels, optimizer, criterion):\n",
        "    model.train()\n",
        "    optimizer.zero_grad()\n",
        "    predictions = model(data).squeeze(1)\n",
        "    loss = criterion(predictions, labels.float())\n",
        "    loss.backward()\n",
        "    optimizer.step()\n",
        "\n",
        "def evaluate(model, data, labels, criterion):\n",
        "    model.eval()\n",
        "    predictions = model(data).squeeze(1)\n",
        "    loss = criterion(predictions, labels.float())\n",
        "    return loss.item()"
      ],
      "metadata": {
        "id": "t-SSBKjF1P0R"
      },
      "id": "t-SSBKjF1P0R",
      "execution_count": 188,
      "outputs": []
    },
    {
      "cell_type": "code",
      "source": [
        "# a. function named get_vacab(corpus) that returns corpus_words\n",
        "def get_vocab(corpus):\n",
        "    corpus_words = []\n",
        "    corpus_words = sorted({word for text in corpus for word in text if word not in corpus_words})\n",
        "    return corpus_words"
      ],
      "metadata": {
        "id": "AvHCBzFo1Pql"
      },
      "id": "AvHCBzFo1Pql",
      "execution_count": 189,
      "outputs": []
    },
    {
      "cell_type": "code",
      "source": [
        "# b. function compute_co_occurrence_matrix(corpus,window_size=4) that returns both M and word2index\n",
        "def compute_co_occurrence_matrix(corpus, window_size=4):\n",
        "    word2index = {word: index for index, word in enumerate(corpus)}\n",
        "\n",
        "    M = np.zeros((len(word2index),len(word2index)), dtype = np.int32)\n",
        "\n",
        "    for i, target in enumerate(corpus):\n",
        "        start = max(0, i - window_size)\n",
        "        end = min(len(corpus), i + window_size + 1)\n",
        "\n",
        "        for j in range(start, end):\n",
        "            if i != j and corpus[j] in word2index:\n",
        "                M[word2index[target]][word2index[corpus[j]]] += 1\n",
        "\n",
        "    return M, word2index"
      ],
      "metadata": {
        "id": "Kc9bGF731PmJ"
      },
      "id": "Kc9bGF731PmJ",
      "execution_count": 190,
      "outputs": []
    },
    {
      "cell_type": "code",
      "source": [
        "# c. function named reduce_to_k_dim(M) to perform dimensionality reduction on the matrix M\n",
        "def reduce_to_k_dim(M, k=2):\n",
        "    svd = TruncatedSVD(n_components=k, n_iter=10)\n",
        "    M_dim_red = svd.fit_transform(M)\n",
        "\n",
        "    return M_dim_red"
      ],
      "metadata": {
        "id": "GRR5Nd6YDFFY"
      },
      "id": "GRR5Nd6YDFFY",
      "execution_count": 191,
      "outputs": []
    },
    {
      "cell_type": "code",
      "source": [
        "def review_embeddings(reviews, M, word2index):\n",
        "    review_embeddings = []\n",
        "    for review in reviews:\n",
        "        review_word_indices = [word2index[word] for word in review if word in word2index]\n",
        "        if len(review_word_indices)>0:\n",
        "            mean_embedding_value = np.mean(M[review_word_indices], axis=0)\n",
        "            review_embeddings.append(mean_embedding_value)\n",
        "    return np.array(review_embeddings)"
      ],
      "metadata": {
        "id": "OYqSUJ8RDE8C"
      },
      "id": "OYqSUJ8RDE8C",
      "execution_count": 192,
      "outputs": []
    },
    {
      "cell_type": "code",
      "source": [
        "x_train, x_test_val, y_train, y_test_val = train_test_split(df_prep['processed_reviewText'], df_prep['overall'], test_size=0.2, random_state=1234)\n",
        "x_test, x_val, y_test, y_val = train_test_split(x_test_val, y_test_val, test_size=0.5, random_state=1234)"
      ],
      "metadata": {
        "id": "A_26nx_aDD_E"
      },
      "id": "A_26nx_aDD_E",
      "execution_count": 227,
      "outputs": []
    },
    {
      "cell_type": "code",
      "source": [
        "corpus_words = get_vocab(df_prep['processed_reviewText'])\n",
        "M, word2index = compute_co_occurrence_matrix(corpus_words)\n",
        "M_reduced = reduce_to_k_dim(M, 128)"
      ],
      "metadata": {
        "id": "ct68M31LDN-h"
      },
      "id": "ct68M31LDN-h",
      "execution_count": 228,
      "outputs": []
    },
    {
      "cell_type": "code",
      "source": [
        "train_review_embeddings = review_embeddings(x_train, M_reduced, word2index)\n",
        "valid_review_embeddings = review_embeddings(x_val, M_reduced, word2index)\n",
        "test_review_embeddings = review_embeddings(x_test, M_reduced, word2index)"
      ],
      "metadata": {
        "id": "ViZq03QnDN0W"
      },
      "id": "ViZq03QnDN0W",
      "execution_count": 229,
      "outputs": []
    },
    {
      "cell_type": "code",
      "source": [
        "import torch\n",
        "import torch.nn as nn\n",
        "import torch.optim as optim\n",
        "from torch.utils.data import DataLoader, TensorDataset\n",
        "\n",
        "embedding_dim = 100\n",
        "hidden_dim = 128\n",
        "num_layers = 2\n",
        "num_classes = 2\n",
        "learning_rate = 0.01\n",
        "num_epochs = 10\n",
        "batch_size = 64\n",
        "\n",
        "vocab = corpus_words\n",
        "\n",
        "x = torch.tensor(train_review_embeddings, dtype=torch.long)\n",
        "y = torch.tensor(y_train, dtype=torch.long)\n",
        "\n",
        "dataset = TensorDataset(x, y)\n",
        "dataloader = DataLoader(dataset, batch_size=batch_size, shuffle=True)\n",
        "\n",
        "class SentimentAnalysisLSTM(nn.Module):\n",
        "    def __init__(self, vocab_size, embedding_dim, hidden_dim, num_layers, num_classes):\n",
        "        super(SentimentAnalysisLSTM, self).__init__()\n",
        "        self.embedding = nn.Embedding(vocab_size, embedding_dim)\n",
        "        self.lstm = nn.LSTM(embedding_dim, hidden_dim, num_layers, batch_first=True)\n",
        "        self.fc = nn.Linear(hidden_dim, num_classes)\n",
        "\n",
        "    def forward(self, x):\n",
        "        embedded = self.embedding(x)\n",
        "        out, _ = self.lstm(embedded)\n",
        "        out = self.fc(out[:, -1, :])  # Use the last hidden state for prediction\n",
        "        return out\n",
        "\n",
        "model = SentimentAnalysisLSTM(len(vocab), embedding_dim, hidden_dim, num_layers, num_classes)\n",
        "\n",
        "criterion = nn.CrossEntropyLoss()\n",
        "optimizer = optim.SGD(model.parameters(), lr=learning_rate)\n",
        "\n",
        "for epoch in range(num_epochs):\n",
        "    for batch_x, batch_y in dataloader:\n",
        "        outputs = model(batch_x)\n",
        "        loss = criterion(outputs, batch_y)\n",
        "        optimizer.zero_grad()\n",
        "        loss.backward()\n",
        "        optimizer.step()\n",
        "\n",
        "    print(f'Epoch [{epoch+1}/{num_epochs}], Loss: {loss.item():.4f}')"
      ],
      "metadata": {
        "colab": {
          "base_uri": "https://localhost:8080/",
          "height": 0
        },
        "id": "Kd1E4_SrUO2e",
        "outputId": "b0c3b20c-ec50-48b7-d2d1-60264b94ecfb"
      },
      "id": "Kd1E4_SrUO2e",
      "execution_count": 197,
      "outputs": [
        {
          "output_type": "stream",
          "name": "stdout",
          "text": [
            "Epoch [1/10], Loss: 0.3450\n",
            "Epoch [2/10], Loss: 0.2064\n",
            "Epoch [3/10], Loss: 0.3502\n",
            "Epoch [4/10], Loss: 0.2647\n",
            "Epoch [5/10], Loss: 0.3550\n",
            "Epoch [6/10], Loss: 0.2642\n",
            "Epoch [7/10], Loss: 0.2641\n",
            "Epoch [8/10], Loss: 0.2641\n",
            "Epoch [9/10], Loss: 0.0815\n",
            "Epoch [10/10], Loss: 0.3565\n"
          ]
        }
      ]
    },
    {
      "cell_type": "code",
      "source": [
        "from sklearn.model_selection import train_test_split\n",
        "from sklearn.metrics import accuracy_score, classification_report, confusion_matrix\n",
        "\n",
        "# Evaluate the model\n",
        "with torch.no_grad():\n",
        "    xtest = torch.tensor(test_review_embeddings, dtype=torch.long)\n",
        "    outputs = model(xtest)\n",
        "    predicted = torch.argmax(outputs, dim=1)\n",
        "    test_predictions = model(xtest).argmax(dim=1)\n",
        "    rnn_accuracy = accuracy_score(y_test, predicted)\n",
        "    print(\"\\nAccuracy:\", rnn_accuracy)\n",
        "    rnn_c_report = classification_report(y_test, predicted)\n",
        "    print(\"\\nClassification Report:\", rnn_c_report)\n",
        "    rnn_conf = confusion_matrix(y_test, predicted)\n",
        "    print(\"\\nConfusion Matrix:\",rnn_conf)\n",
        "    rnn_precision = precision_score(y_test, predicted)\n",
        "    print(f\"\\nPrecision: {rnn_precision:.4f}\")\n",
        "    rnn_recall = recall_score(y_test, predicted)\n",
        "    print(f\"\\nRecall: {rnn_recall:.4f}\")\n",
        "    rnn_f1 = f1_score(y_test, predicted)\n",
        "    print(f\"\\nF1 Score: {rnn_f1:.4f}\")\n",
        "\n",
        "rnn_acc_score = accuracy_score(y_test, test_predictions)\n",
        "print(f\"\\nTest Accuracy: {rnn_acc_score * 100:.2f}%\")"
      ],
      "metadata": {
        "colab": {
          "base_uri": "https://localhost:8080/",
          "height": 0
        },
        "id": "G2Gn-7U8UOzv",
        "outputId": "c83d4b3d-b9f1-49b3-8a3d-0c84ca154606"
      },
      "id": "G2Gn-7U8UOzv",
      "execution_count": 200,
      "outputs": [
        {
          "output_type": "stream",
          "name": "stdout",
          "text": [
            "\n",
            "Accuracy: 0.9063136456211812\n",
            "\n",
            "Classification Report:               precision    recall  f1-score   support\n",
            "\n",
            "           0       0.00      0.00      0.00        46\n",
            "           1       0.91      1.00      0.95       445\n",
            "\n",
            "    accuracy                           0.91       491\n",
            "   macro avg       0.45      0.50      0.48       491\n",
            "weighted avg       0.82      0.91      0.86       491\n",
            "\n",
            "\n",
            "Confusion Matrix: [[  0  46]\n",
            " [  0 445]]\n",
            "\n",
            "Precision: 0.9063\n",
            "\n",
            "Recall: 1.0000\n",
            "\n",
            "F1 Score: 0.9509\n",
            "\n",
            "Test Accuracy: 90.63%\n"
          ]
        }
      ]
    },
    {
      "cell_type": "markdown",
      "source": [
        "**3. Sentiment Analysis with CNN**\n",
        "\n",
        "Please write the code to perform the sentiment analysis task you formulated in question 1.\n",
        "\n",
        "During the implementation, you will need to follow the requirements listed below. Feel free to\n",
        "use any packages and libraries.\n",
        "\n",
        "1) Please use mini-batch gradient descent method during optimization with batch size 20.\n",
        "\n",
        "2) Please initialize the word embeddings with the pre-trained glove embeddings you used\n",
        "in HW1 and update them during the model training.\n",
        "\n",
        "3) You can decide other parameters.\n",
        "\n"
      ],
      "metadata": {
        "id": "JLdun9NoazF0"
      },
      "id": "JLdun9NoazF0"
    },
    {
      "cell_type": "code",
      "execution_count": 124,
      "id": "9803ef77",
      "metadata": {
        "colab": {
          "base_uri": "https://localhost:8080/",
          "height": 0
        },
        "id": "9803ef77",
        "outputId": "3b493e34-87d1-45b7-c047-2677f518e5d6"
      },
      "outputs": [
        {
          "output_type": "stream",
          "name": "stdout",
          "text": [
            "[==================================================] 100.0% 376.1/376.1MB downloaded\n",
            "Loaded vocab size 400000\n"
          ]
        }
      ],
      "source": [
        "# a. function load_embedding_model() to load the GloVe embeddings\n",
        "import gensim.downloader as api\n",
        "\n",
        "def load_embedding_model():\n",
        "    wv_from_bin = api.load(\"glove-wiki-gigaword-300\")\n",
        "    print(\"Loaded vocab size %i\" % len(list(wv_from_bin.index_to_key)))\n",
        "    return wv_from_bin\n",
        "\n",
        "wv_from_bin = load_embedding_model()"
      ]
    },
    {
      "cell_type": "code",
      "execution_count": 233,
      "id": "34739acd",
      "metadata": {
        "id": "34739acd"
      },
      "outputs": [],
      "source": [
        "# b. function get_matrix_of_vectors(wv_from_bin, required_words)\n",
        "def get_matrix_of_vectors(wv_from_bin, required_words):\n",
        "    word2ind = {}\n",
        "    M = []\n",
        "    curInd = 0\n",
        "    for w in required_words:\n",
        "        try:\n",
        "            M.append(wv_from_bin.get_vector(w))\n",
        "            word2ind[w] = curInd\n",
        "            curInd += 1\n",
        "        except KeyError:\n",
        "            continue\n",
        "    M = np.stack(M)\n",
        "    return M, word2ind"
      ]
    },
    {
      "cell_type": "code",
      "execution_count": 234,
      "id": "dda0e049",
      "metadata": {
        "id": "dda0e049"
      },
      "outputs": [],
      "source": [
        "required_words = corpus_words\n",
        "M_glove, word2index_glove = get_matrix_of_vectors(wv_from_bin, required_words)"
      ]
    },
    {
      "cell_type": "code",
      "execution_count": 235,
      "id": "41bd203e",
      "metadata": {
        "colab": {
          "base_uri": "https://localhost:8080/"
        },
        "id": "41bd203e",
        "outputId": "b2ee715e-4633-40b1-cc50-5282d05fd82a"
      },
      "outputs": [
        {
          "output_type": "execute_result",
          "data": {
            "text/plain": [
              "array([[ 3.3792734 , -0.245708  ,  0.43116274, ..., -0.05638052,\n",
              "         0.3489072 ,  0.16057754],\n",
              "       [-2.1294856 ,  1.4762567 , -0.37406862, ..., -0.24591732,\n",
              "         0.8022026 ,  0.35435984],\n",
              "       [-1.3636929 ,  1.6366177 , -1.4373841 , ..., -0.3636768 ,\n",
              "        -0.7516984 , -0.41285926],\n",
              "       ...,\n",
              "       [-2.0039377 ,  1.2988904 , -0.02787244, ...,  0.18855955,\n",
              "        -0.09180464,  0.56613654],\n",
              "       [-1.5727885 ,  1.0045192 , -0.30038017, ..., -0.39649138,\n",
              "        -0.54968643,  0.1949707 ],\n",
              "       [-0.92294705,  2.752874  , -0.87717545, ..., -0.42090192,\n",
              "         0.4029893 ,  0.19398925]], dtype=float32)"
            ]
          },
          "metadata": {},
          "execution_count": 235
        }
      ],
      "source": [
        "# c. Use the function reduce_to_k_dim() to reduce the vectors to 2 dimension\n",
        "M_reduced_glove = reduce_to_k_dim(M_glove, k=128)\n",
        "M_reduced_glove"
      ]
    },
    {
      "cell_type": "code",
      "source": [
        "x_train, x_test_val, y_train, y_test_val = train_test_split(df_prep['processed_reviewText'], df_prep['overall'], test_size=0.2, random_state=1234)\n",
        "x_test, x_val, y_test, y_val = train_test_split(x_test_val, y_test_val, test_size=0.5, random_state=1234)"
      ],
      "metadata": {
        "id": "phYtUI-4v0TO"
      },
      "id": "phYtUI-4v0TO",
      "execution_count": 274,
      "outputs": []
    },
    {
      "cell_type": "code",
      "source": [
        "# altering the review_embeddings to incorporate missing corpus\n",
        "def review_embeddings(reviews, M, word2index):\n",
        "    review_embeddings = []\n",
        "    for review in reviews:\n",
        "        review_word_indices = [word2index[word] for word in review if word in word2index]\n",
        "        if len(review_word_indices) > 0:\n",
        "            mean_embedding_value = np.mean(M[review_word_indices], axis=0)\n",
        "            review_embeddings.append(mean_embedding_value)\n",
        "        else:\n",
        "            mean_embedding_value = np.zeros(M.shape[1])\n",
        "            review_embeddings.append(mean_embedding_value)\n",
        "    return np.array(review_embeddings)"
      ],
      "metadata": {
        "id": "LM1rG2_cqU7S"
      },
      "id": "LM1rG2_cqU7S",
      "execution_count": 289,
      "outputs": []
    },
    {
      "cell_type": "code",
      "source": [
        "train_review_embeddings = review_embeddings(x_train, M_reduced_glove, word2index_glove)\n",
        "valid_review_embeddings = review_embeddings(x_val, M_reduced_glove, word2index_glove)\n",
        "test_review_embeddings = review_embeddings(x_test, M_reduced_glove, word2index_glove)"
      ],
      "metadata": {
        "id": "HmGtpnuVUUTe"
      },
      "id": "HmGtpnuVUUTe",
      "execution_count": 283,
      "outputs": []
    },
    {
      "cell_type": "code",
      "source": [
        "import numpy as np\n",
        "import pandas as pd\n",
        "import torch\n",
        "import torch.nn as nn\n",
        "import torch.optim as optim\n",
        "import torch.nn.functional as F\n",
        "from sklearn.model_selection import train_test_split\n",
        "from sklearn.utils import shuffle\n",
        "from sklearn.metrics import accuracy_score\n",
        "from torchtext.vocab import GloVe\n",
        "\n",
        "vocab_size = len(word2index_glove)\n",
        "embedding_dim = 100\n",
        "num_filters = 100\n",
        "filter_sizes = [3, 4, 5]\n",
        "hidden_dim = 256\n",
        "output_dim = 2\n",
        "dropout = 0.5\n",
        "batch_size = 20\n",
        "learning_rate = 0.001\n",
        "num_epochs = 10\n",
        "\n",
        "x_train = torch.tensor(train_review_embeddings, dtype=torch.long)\n",
        "x_test = torch.tensor(test_review_embeddings, dtype=torch.long)\n",
        "y_train = torch.tensor(y_train, dtype=torch.long)\n",
        "\n",
        "train_dataset = TensorDataset(x_train, y_train)\n",
        "train_dataloader = DataLoader(train_dataset, batch_size=batch_size, shuffle=True)\n",
        "\n",
        "class CNNSentimentAnalysis(nn.Module):\n",
        "    def __init__(self, vocab_size, embedding_dim, num_filters, filter_sizes, hidden_dim, output_dim, dropout):\n",
        "        super(CNNSentimentAnalysis, self).__init__()\n",
        "        self.embedding = nn.Embedding(vocab_size, embedding_dim)\n",
        "        self.convs = nn.ModuleList([nn.Conv2d(in_channels=1, out_channels=num_filters, kernel_size=(fs, embedding_dim)) for fs in filter_sizes])\n",
        "        self.fc = nn.Linear(len(filter_sizes) * num_filters, hidden_dim)\n",
        "        self.output = nn.Linear(hidden_dim, output_dim)\n",
        "        self.dropout = nn.Dropout(dropout)\n",
        "\n",
        "    def forward(self, text):\n",
        "        # print(text)\n",
        "        embedded = self.embedding(text)\n",
        "        # print(embedded)\n",
        "        embedded = embedded.unsqueeze(1)\n",
        "        conved = [F.relu(conv(embedded)).squeeze(3) for conv in self.convs]\n",
        "        pooled = [F.max_pool1d(conv, conv.shape[2]).squeeze(2) for conv in conved]\n",
        "        cat = self.dropout(torch.cat(pooled, dim=1))\n",
        "        hidden = self.fc(cat)\n",
        "        output = self.output(hidden)\n",
        "        return output\n",
        "\n",
        "train_data = torch.utils.data.TensorDataset(x_train, y_train)\n",
        "train_loader = torch.utils.data.DataLoader(train_data, batch_size=batch_size, shuffle=True)\n",
        "\n",
        "model = CNNSentimentAnalysis(vocab_size, embedding_dim, num_filters, filter_sizes, hidden_dim, output_dim, dropout)\n",
        "optimizer = optim.Adam(model.parameters(), lr=learning_rate)\n",
        "criterion = nn.CrossEntropyLoss()\n",
        "\n",
        "for epoch in range(num_epochs):\n",
        "    model.train()\n",
        "    for inputs, labels in train_loader: #ensuring that the negative index values are removed\n",
        "        min_value = inputs.min().item()\n",
        "        max_value = inputs.max().item()\n",
        "        vocab_size = 9697\n",
        "        if min_value < 0 or max_value >= vocab_size:\n",
        "            inputs[inputs < 0] = 0\n",
        "            inputs[inputs >= vocab_size] = vocab_size - 1\n",
        "        optimizer.zero_grad()\n",
        "        outputs = model(inputs)\n",
        "        loss = criterion(outputs, labels)\n",
        "        loss.backward()\n",
        "        optimizer.step()\n",
        "    print(f'Epoch [{epoch+1}/{num_epochs}], Loss: {loss.item():.4f}')"
      ],
      "metadata": {
        "colab": {
          "base_uri": "https://localhost:8080/"
        },
        "id": "3aRGIt5ab_lW",
        "outputId": "e8cba927-0d69-400b-d6d2-0953a20fa2c4"
      },
      "id": "3aRGIt5ab_lW",
      "execution_count": 290,
      "outputs": [
        {
          "output_type": "stream",
          "name": "stderr",
          "text": [
            "<ipython-input-290-5074c7c42999>:25: UserWarning: To copy construct from a tensor, it is recommended to use sourceTensor.clone().detach() or sourceTensor.clone().detach().requires_grad_(True), rather than torch.tensor(sourceTensor).\n",
            "  y_train = torch.tensor(y_train, dtype=torch.long)\n"
          ]
        },
        {
          "output_type": "stream",
          "name": "stdout",
          "text": [
            "Epoch [1/10], Loss: 0.3682\n",
            "Epoch [2/10], Loss: 0.3715\n",
            "Epoch [3/10], Loss: 0.0381\n",
            "Epoch [4/10], Loss: 0.1149\n",
            "Epoch [5/10], Loss: 0.0825\n",
            "Epoch [6/10], Loss: 0.0676\n",
            "Epoch [7/10], Loss: 0.3691\n",
            "Epoch [8/10], Loss: 0.0994\n",
            "Epoch [9/10], Loss: 0.0487\n",
            "Epoch [10/10], Loss: 0.1019\n"
          ]
        }
      ]
    },
    {
      "cell_type": "code",
      "source": [
        "x_test\n",
        "min_value = x_test.min().item()\n",
        "max_value = x_test.max().item()\n",
        "vocab_size = 9697\n",
        "if min_value < 0 or max_value >= vocab_size:\n",
        "    x_test[x_test < 0] = 0\n",
        "    x_test[x_test >= vocab_size] = vocab_size - 1\n",
        "model.eval()\n",
        "with torch.no_grad():\n",
        "    # y_test = torch.tensor(y_test, dtype=torch.long)\n",
        "    test_predictions = model(x_test).argmax(dim=1)\n",
        "    outputs = model(x_test)\n",
        "    predicted = torch.argmax(outputs, dim=1)\n",
        "    cnn_accuracy = accuracy_score(y_test, predicted)\n",
        "    print(\"Accuracy:\", cnn_accuracy)\n",
        "    cnn_c_report = classification_report(y_test, predicted)\n",
        "    print(\"\\nClassification Report:\", cnn_c_report)\n",
        "    cnn_conf = confusion_matrix(y_test, predicted)\n",
        "    print(\"\\nConfusion Matrix:\", cnn_conf)\n",
        "    precision = precision_score(y_test, predicted)\n",
        "    print(f\"\\nPrecision: {precision:.4f}\")\n",
        "    recall = recall_score(y_test, predicted)\n",
        "    print(f\"\\nRecall: {recall:.4f}\")\n",
        "    f1 = f1_score(y_test, predicted)\n",
        "    print(f\"\\nF1 Score: {f1:.4f}\")\n",
        "\n",
        "\n",
        "cnn_acc_score = accuracy_score(y_test, test_predictions)\n",
        "print(f\"\\nTest Accuracy: {cnn_acc_score * 100:.2f}%\")"
      ],
      "metadata": {
        "colab": {
          "base_uri": "https://localhost:8080/"
        },
        "id": "f1ugnrZhih-J",
        "outputId": "4932ab6b-f029-47f2-8b71-2b134f718d7b"
      },
      "id": "f1ugnrZhih-J",
      "execution_count": 291,
      "outputs": [
        {
          "output_type": "stream",
          "name": "stdout",
          "text": [
            "Accuracy: 0.9063136456211812\n",
            "\n",
            "Classification Report:               precision    recall  f1-score   support\n",
            "\n",
            "           0       0.00      0.00      0.00        46\n",
            "           1       0.91      1.00      0.95       445\n",
            "\n",
            "    accuracy                           0.91       491\n",
            "   macro avg       0.45      0.50      0.48       491\n",
            "weighted avg       0.82      0.91      0.86       491\n",
            "\n",
            "\n",
            "Confusion Matrix: [[  0  46]\n",
            " [  0 445]]\n",
            "\n",
            "Precision: 0.9063\n",
            "\n",
            "Recall: 1.0000\n",
            "\n",
            "F1 Score: 0.9509\n",
            "\n",
            "Test Accuracy: 90.63%\n"
          ]
        }
      ]
    },
    {
      "cell_type": "markdown",
      "source": [
        "**4. Evaluation**\n",
        "\n",
        "Train the model on the training set, select the best model based on the validation set, and\n",
        "evaluate your model on the testing set.\n",
        "\n",
        "1) Evaluate the model performance using metrics for classification, such as accuracy,\n",
        "precision, recall, F1-score, and AUC. Report your results for both methods. You can call\n",
        "classification report in sklearn.\n",
        "\n",
        "2) Have a brief discussion to compare the performance of the two models. It should be noted\n",
        "that there is no fixed answer for the results. You will need to report the exact results\n",
        "returned in your experiments. The discussions should only be based on your own\n",
        "experimental settings and returned results.\n",
        "\n",
        "3) Are there any differences between the results you obtained in HW1 and HW2? Which\n",
        "model performs best? Can you please provide some discussions about your findings? It\n",
        "would be great to think about and discuss the underlying reasons for the outperformance\n",
        "of the best model."
      ],
      "metadata": {
        "id": "14ppkzt-OtKZ"
      },
      "id": "14ppkzt-OtKZ"
    },
    {
      "cell_type": "markdown",
      "source": [
        "The evaluation metrics from both the models are as follows:"
      ],
      "metadata": {
        "id": "I0DlDMILXS0_"
      },
      "id": "I0DlDMILXS0_"
    },
    {
      "cell_type": "code",
      "execution_count": 292,
      "id": "YTzFZ9KFKuYf",
      "metadata": {
        "colab": {
          "base_uri": "https://localhost:8080/"
        },
        "id": "YTzFZ9KFKuYf",
        "outputId": "1a842260-7a17-4c8a-cfa7-56c78ed56e10"
      },
      "outputs": [
        {
          "output_type": "stream",
          "name": "stdout",
          "text": [
            "RNN Metrics:\n",
            "\n",
            "Accuracy: 0.9063136456211812\n",
            "\n",
            "Classification Report:\n",
            "               precision    recall  f1-score   support\n",
            "\n",
            "           0       0.00      0.00      0.00        46\n",
            "           1       0.91      1.00      0.95       445\n",
            "\n",
            "    accuracy                           0.91       491\n",
            "   macro avg       0.45      0.50      0.48       491\n",
            "weighted avg       0.82      0.91      0.86       491\n",
            "\n",
            "\n",
            "Confusion Matrix:\n",
            " [[  0  46]\n",
            " [  0 445]]\n",
            "\n",
            "Precision: 0.9063\n",
            "\n",
            "Recall: 1.0000\n",
            "\n",
            "F1 Score: 0.9509\n",
            "\n",
            "Test Accuracy: 90.63%\n"
          ]
        }
      ],
      "source": [
        "print(\"RNN Metrics:\")\n",
        "print(\"\\nAccuracy:\", rnn_accuracy)\n",
        "print(\"\\nClassification Report:\\n\", rnn_c_report)\n",
        "print(\"\\nConfusion Matrix:\\n\", rnn_conf)\n",
        "print(f\"\\nPrecision: {rnn_precision:.4f}\")\n",
        "print(f\"\\nRecall: {rnn_recall:.4f}\")\n",
        "print(f\"\\nF1 Score: {rnn_f1:.4f}\")\n",
        "print(f\"\\nTest Accuracy: {rnn_acc_score * 100:.2f}%\")"
      ]
    },
    {
      "cell_type": "code",
      "source": [
        "print(\"CNN Metrics:\")\n",
        "print(\"\\nAccuracy:\", cnn_accuracy)\n",
        "print(\"\\nClassification Report:\\n\", cnn_c_report)\n",
        "print(\"\\nConfusion Matrix:\\n\", cnn_conf)\n",
        "print(f\"\\nPrecision: {precision:.4f}\")\n",
        "print(f\"\\nRecall: {recall:.4f}\")\n",
        "print(f\"\\nF1 Score: {f1:.4f}\")\n",
        "print(f\"\\nTest Accuracy: {cnn_acc_score * 100:.2f}%\")"
      ],
      "metadata": {
        "colab": {
          "base_uri": "https://localhost:8080/"
        },
        "id": "d3lWuLt4M8Cd",
        "outputId": "c1770415-49fc-4ddc-b85e-503d68a2418d"
      },
      "id": "d3lWuLt4M8Cd",
      "execution_count": 293,
      "outputs": [
        {
          "output_type": "stream",
          "name": "stdout",
          "text": [
            "CNN Metrics:\n",
            "\n",
            "Accuracy: 0.9063136456211812\n",
            "\n",
            "Classification Report:\n",
            "               precision    recall  f1-score   support\n",
            "\n",
            "           0       0.00      0.00      0.00        46\n",
            "           1       0.91      1.00      0.95       445\n",
            "\n",
            "    accuracy                           0.91       491\n",
            "   macro avg       0.45      0.50      0.48       491\n",
            "weighted avg       0.82      0.91      0.86       491\n",
            "\n",
            "\n",
            "Confusion Matrix:\n",
            " [[  0  46]\n",
            " [  0 445]]\n",
            "\n",
            "Precision: 0.9063\n",
            "\n",
            "Recall: 1.0000\n",
            "\n",
            "F1 Score: 0.9509\n",
            "\n",
            "Test Accuracy: 90.63%\n"
          ]
        }
      ]
    },
    {
      "cell_type": "markdown",
      "id": "5CGMIjzs4rrl",
      "metadata": {
        "id": "5CGMIjzs4rrl"
      },
      "source": [
        "Comparing the performance of both the models,\n",
        "1.   Even though both the models have similar accuracy, the difference can be noted mainly in the other metrics.\n",
        "2.   The losses in the RNN model are lesser than that in the CNN in the initial stage.\n",
        "3.   The CNN Model performed better in terms of reducing the losses from an earlier iteration as compared to the RNN model eventually.\n",
        "\n",
        "On comparison with the results in HW1, the models in HW2 perform far better in every aspect - accuracy, precision, recall as well as the F1 score. This could be because these models incorporate better understanding of the problem then the conventional models. The models in HW1 are linear models and they can only capture linear relationships. RNN and CNN are better at handling complex relationships in this case. Also, RNN models are better equipped to handle sequential data like text in this case."
      ]
    },
    {
      "cell_type": "markdown",
      "id": "PJZfLj8l2CFN",
      "metadata": {
        "id": "PJZfLj8l2CFN"
      },
      "source": [
        "**References**\n",
        "\n",
        "\n",
        "1.   https://scikit-learn.org/\n",
        "2.   https://web.stanford.edu/class/cs224n/assignments/a1_preview/exploring_word_vectors.html\n",
        "3.   https://www.nltk.org/book/ch02.html\n",
        "4.   https://web.stanford.edu/~jurafsky/slp3/6.pdf\n",
        "5.   https://davetang.org/file/Singular_Value_Decomposition_Tutorial.pdf\n",
        "6.   https://miroslavtushev.medium.com/faster-word-co-occurrence-calculation-in-large-document-corpus-eeac86543d8a\n",
        "7.   https://towardsdatascience.com/machine-learning-word-embedding-sentiment-classification-using-keras-b83c28087456\n",
        "8.   OpenAI. (2023). ChatGPT (September 25 Version) [Large language model]. https://chat.openai.com"
      ]
    }
  ],
  "metadata": {
    "accelerator": "GPU",
    "colab": {
      "gpuType": "T4",
      "provenance": []
    },
    "kernelspec": {
      "display_name": "Python 3 (ipykernel)",
      "language": "python",
      "name": "python3"
    },
    "language_info": {
      "codemirror_mode": {
        "name": "ipython",
        "version": 3
      },
      "file_extension": ".py",
      "mimetype": "text/x-python",
      "name": "python",
      "nbconvert_exporter": "python",
      "pygments_lexer": "ipython3",
      "version": "3.9.12"
    }
  },
  "nbformat": 4,
  "nbformat_minor": 5
}